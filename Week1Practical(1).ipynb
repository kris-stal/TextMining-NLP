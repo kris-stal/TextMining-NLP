{
  "cells": [
    {
      "cell_type": "markdown",
      "metadata": {
        "id": "bnuadS-YXllb"
      },
      "source": [
        "#   **Please run the code in the file, understand the cell output, and follow the tasks as you wish.**    \n",
        "Futher reading:\n",
        "\n",
        "[NLTK chapter 1](https://www.nltk.org/book/ch01.html)\n",
        "\n",
        "[NLTK chapter 2](https://www.nltk.org/book/ch02.html)\n",
        "\n",
        "These codes below are extracted from these chapters for your convenience, where more explanations can be found if you like."
      ]
    },
    {
      "cell_type": "markdown",
      "metadata": {
        "id": "CYmP29yzrMra"
      },
      "source": [
        "# Getting Started with NLTK"
      ]
    },
    {
      "cell_type": "markdown",
      "metadata": {
        "id": "vrEJM6P7Sk26"
      },
      "source": [
        "The aim of this session  is for you to be familiar with the NLTK on how the texts can be accessed. We start with downloading the tool kit and data sets."
      ]
    },
    {
      "cell_type": "code",
      "execution_count": null,
      "metadata": {
        "colab": {
          "base_uri": "https://localhost:8080/"
        },
        "id": "h4SYKJt3VKoz",
        "outputId": "7bcf003f-a96f-4657-cc95-0f9bcbd8a9a0"
      },
      "outputs": [
        {
          "name": "stderr",
          "output_type": "stream",
          "text": [
            "[nltk_data] Downloading collection 'all-corpora'\n",
            "[nltk_data]    | \n",
            "[nltk_data]    | Downloading package abc to\n",
            "[nltk_data]    |     C:\\Users\\deco\\AppData\\Roaming\\nltk_data...\n",
            "[nltk_data]    |   Package abc is already up-to-date!\n",
            "[nltk_data]    | Downloading package alpino to\n",
            "[nltk_data]    |     C:\\Users\\deco\\AppData\\Roaming\\nltk_data...\n",
            "[nltk_data]    |   Package alpino is already up-to-date!\n",
            "[nltk_data]    | Downloading package bcp47 to\n",
            "[nltk_data]    |     C:\\Users\\deco\\AppData\\Roaming\\nltk_data...\n",
            "[nltk_data]    |   Package bcp47 is already up-to-date!\n",
            "[nltk_data]    | Downloading package biocreative_ppi to\n",
            "[nltk_data]    |     C:\\Users\\deco\\AppData\\Roaming\\nltk_data...\n",
            "[nltk_data]    |   Package biocreative_ppi is already up-to-date!\n",
            "[nltk_data]    | Downloading package brown to\n",
            "[nltk_data]    |     C:\\Users\\deco\\AppData\\Roaming\\nltk_data...\n",
            "[nltk_data]    |   Package brown is already up-to-date!\n",
            "[nltk_data]    | Downloading package brown_tei to\n",
            "[nltk_data]    |     C:\\Users\\deco\\AppData\\Roaming\\nltk_data...\n",
            "[nltk_data]    |   Package brown_tei is already up-to-date!\n",
            "[nltk_data]    | Downloading package cess_cat to\n",
            "[nltk_data]    |     C:\\Users\\deco\\AppData\\Roaming\\nltk_data...\n",
            "[nltk_data]    |   Package cess_cat is already up-to-date!\n",
            "[nltk_data]    | Downloading package cess_esp to\n",
            "[nltk_data]    |     C:\\Users\\deco\\AppData\\Roaming\\nltk_data...\n",
            "[nltk_data]    |   Package cess_esp is already up-to-date!\n",
            "[nltk_data]    | Downloading package chat80 to\n",
            "[nltk_data]    |     C:\\Users\\deco\\AppData\\Roaming\\nltk_data...\n",
            "[nltk_data]    |   Package chat80 is already up-to-date!\n",
            "[nltk_data]    | Downloading package city_database to\n",
            "[nltk_data]    |     C:\\Users\\deco\\AppData\\Roaming\\nltk_data...\n",
            "[nltk_data]    |   Package city_database is already up-to-date!\n",
            "[nltk_data]    | Downloading package cmudict to\n",
            "[nltk_data]    |     C:\\Users\\deco\\AppData\\Roaming\\nltk_data...\n",
            "[nltk_data]    |   Package cmudict is already up-to-date!\n",
            "[nltk_data]    | Downloading package comparative_sentences to\n",
            "[nltk_data]    |     C:\\Users\\deco\\AppData\\Roaming\\nltk_data...\n",
            "[nltk_data]    |   Package comparative_sentences is already up-to-\n",
            "[nltk_data]    |       date!\n",
            "[nltk_data]    | Downloading package comtrans to\n",
            "[nltk_data]    |     C:\\Users\\deco\\AppData\\Roaming\\nltk_data...\n",
            "[nltk_data]    |   Package comtrans is already up-to-date!\n",
            "[nltk_data]    | Downloading package conll2000 to\n",
            "[nltk_data]    |     C:\\Users\\deco\\AppData\\Roaming\\nltk_data...\n",
            "[nltk_data]    |   Package conll2000 is already up-to-date!\n",
            "[nltk_data]    | Downloading package conll2002 to\n",
            "[nltk_data]    |     C:\\Users\\deco\\AppData\\Roaming\\nltk_data...\n",
            "[nltk_data]    |   Package conll2002 is already up-to-date!\n",
            "[nltk_data]    | Downloading package conll2007 to\n",
            "[nltk_data]    |     C:\\Users\\deco\\AppData\\Roaming\\nltk_data...\n",
            "[nltk_data]    |   Package conll2007 is already up-to-date!\n",
            "[nltk_data]    | Downloading package crubadan to\n",
            "[nltk_data]    |     C:\\Users\\deco\\AppData\\Roaming\\nltk_data...\n",
            "[nltk_data]    |   Package crubadan is already up-to-date!\n",
            "[nltk_data]    | Downloading package dependency_treebank to\n",
            "[nltk_data]    |     C:\\Users\\deco\\AppData\\Roaming\\nltk_data...\n",
            "[nltk_data]    |   Package dependency_treebank is already up-to-date!\n",
            "[nltk_data]    | Downloading package dolch to\n",
            "[nltk_data]    |     C:\\Users\\deco\\AppData\\Roaming\\nltk_data...\n",
            "[nltk_data]    |   Package dolch is already up-to-date!\n",
            "[nltk_data]    | Downloading package europarl_raw to\n",
            "[nltk_data]    |     C:\\Users\\deco\\AppData\\Roaming\\nltk_data...\n",
            "[nltk_data]    |   Package europarl_raw is already up-to-date!\n",
            "[nltk_data]    | Downloading package extended_omw to\n",
            "[nltk_data]    |     C:\\Users\\deco\\AppData\\Roaming\\nltk_data...\n",
            "[nltk_data]    |   Package extended_omw is already up-to-date!\n",
            "[nltk_data]    | Downloading package floresta to\n",
            "[nltk_data]    |     C:\\Users\\deco\\AppData\\Roaming\\nltk_data...\n",
            "[nltk_data]    |   Package floresta is already up-to-date!\n",
            "[nltk_data]    | Downloading package framenet_v15 to\n",
            "[nltk_data]    |     C:\\Users\\deco\\AppData\\Roaming\\nltk_data...\n",
            "[nltk_data]    |   Package framenet_v15 is already up-to-date!\n",
            "[nltk_data]    | Downloading package framenet_v17 to\n",
            "[nltk_data]    |     C:\\Users\\deco\\AppData\\Roaming\\nltk_data...\n",
            "[nltk_data]    |   Package framenet_v17 is already up-to-date!\n",
            "[nltk_data]    | Downloading package gazetteers to\n",
            "[nltk_data]    |     C:\\Users\\deco\\AppData\\Roaming\\nltk_data...\n",
            "[nltk_data]    |   Package gazetteers is already up-to-date!\n",
            "[nltk_data]    | Downloading package genesis to\n",
            "[nltk_data]    |     C:\\Users\\deco\\AppData\\Roaming\\nltk_data...\n",
            "[nltk_data]    |   Package genesis is already up-to-date!\n",
            "[nltk_data]    | Downloading package gutenberg to\n",
            "[nltk_data]    |     C:\\Users\\deco\\AppData\\Roaming\\nltk_data...\n",
            "[nltk_data]    |   Package gutenberg is already up-to-date!\n",
            "[nltk_data]    | Downloading package ieer to\n",
            "[nltk_data]    |     C:\\Users\\deco\\AppData\\Roaming\\nltk_data...\n",
            "[nltk_data]    |   Package ieer is already up-to-date!\n",
            "[nltk_data]    | Downloading package inaugural to\n",
            "[nltk_data]    |     C:\\Users\\deco\\AppData\\Roaming\\nltk_data...\n",
            "[nltk_data]    |   Package inaugural is already up-to-date!\n",
            "[nltk_data]    | Downloading package indian to\n",
            "[nltk_data]    |     C:\\Users\\deco\\AppData\\Roaming\\nltk_data...\n",
            "[nltk_data]    |   Package indian is already up-to-date!\n",
            "[nltk_data]    | Downloading package jeita to\n",
            "[nltk_data]    |     C:\\Users\\deco\\AppData\\Roaming\\nltk_data...\n",
            "[nltk_data]    |   Package jeita is already up-to-date!\n",
            "[nltk_data]    | Downloading package kimmo to\n",
            "[nltk_data]    |     C:\\Users\\deco\\AppData\\Roaming\\nltk_data...\n",
            "[nltk_data]    |   Package kimmo is already up-to-date!\n",
            "[nltk_data]    | Downloading package knbc to\n",
            "[nltk_data]    |     C:\\Users\\deco\\AppData\\Roaming\\nltk_data...\n",
            "[nltk_data]    |   Package knbc is already up-to-date!\n",
            "[nltk_data]    | Downloading package lin_thesaurus to\n",
            "[nltk_data]    |     C:\\Users\\deco\\AppData\\Roaming\\nltk_data...\n",
            "[nltk_data]    |   Package lin_thesaurus is already up-to-date!\n",
            "[nltk_data]    | Downloading package mac_morpho to\n",
            "[nltk_data]    |     C:\\Users\\deco\\AppData\\Roaming\\nltk_data...\n",
            "[nltk_data]    |   Package mac_morpho is already up-to-date!\n",
            "[nltk_data]    | Downloading package machado to\n",
            "[nltk_data]    |     C:\\Users\\deco\\AppData\\Roaming\\nltk_data...\n",
            "[nltk_data]    |   Package machado is already up-to-date!\n",
            "[nltk_data]    | Downloading package masc_tagged to\n",
            "[nltk_data]    |     C:\\Users\\deco\\AppData\\Roaming\\nltk_data...\n",
            "[nltk_data]    |   Package masc_tagged is already up-to-date!\n",
            "[nltk_data]    | Downloading package movie_reviews to\n",
            "[nltk_data]    |     C:\\Users\\deco\\AppData\\Roaming\\nltk_data...\n",
            "[nltk_data]    |   Package movie_reviews is already up-to-date!\n",
            "[nltk_data]    | Downloading package mte_teip5 to\n",
            "[nltk_data]    |     C:\\Users\\deco\\AppData\\Roaming\\nltk_data...\n",
            "[nltk_data]    |   Package mte_teip5 is already up-to-date!\n",
            "[nltk_data]    | Downloading package names to\n",
            "[nltk_data]    |     C:\\Users\\deco\\AppData\\Roaming\\nltk_data...\n",
            "[nltk_data]    |   Package names is already up-to-date!\n",
            "[nltk_data]    | Downloading package nombank.1.0 to\n",
            "[nltk_data]    |     C:\\Users\\deco\\AppData\\Roaming\\nltk_data...\n",
            "[nltk_data]    |   Package nombank.1.0 is already up-to-date!\n",
            "[nltk_data]    | Downloading package nonbreaking_prefixes to\n",
            "[nltk_data]    |     C:\\Users\\deco\\AppData\\Roaming\\nltk_data...\n",
            "[nltk_data]    |   Package nonbreaking_prefixes is already up-to-date!\n",
            "[nltk_data]    | Downloading package nps_chat to\n",
            "[nltk_data]    |     C:\\Users\\deco\\AppData\\Roaming\\nltk_data...\n",
            "[nltk_data]    |   Package nps_chat is already up-to-date!\n",
            "[nltk_data]    | Downloading package omw to\n",
            "[nltk_data]    |     C:\\Users\\deco\\AppData\\Roaming\\nltk_data...\n",
            "[nltk_data]    |   Package omw is already up-to-date!\n",
            "[nltk_data]    | Downloading package omw-1.4 to\n",
            "[nltk_data]    |     C:\\Users\\deco\\AppData\\Roaming\\nltk_data...\n",
            "[nltk_data]    |   Package omw-1.4 is already up-to-date!\n",
            "[nltk_data]    | Downloading package opinion_lexicon to\n",
            "[nltk_data]    |     C:\\Users\\deco\\AppData\\Roaming\\nltk_data...\n",
            "[nltk_data]    |   Package opinion_lexicon is already up-to-date!\n",
            "[nltk_data]    | Downloading package panlex_swadesh to\n",
            "[nltk_data]    |     C:\\Users\\deco\\AppData\\Roaming\\nltk_data...\n",
            "[nltk_data]    |   Package panlex_swadesh is already up-to-date!\n",
            "[nltk_data]    | Downloading package paradigms to\n",
            "[nltk_data]    |     C:\\Users\\deco\\AppData\\Roaming\\nltk_data...\n",
            "[nltk_data]    |   Package paradigms is already up-to-date!\n",
            "[nltk_data]    | Downloading package pe08 to\n",
            "[nltk_data]    |     C:\\Users\\deco\\AppData\\Roaming\\nltk_data...\n",
            "[nltk_data]    |   Package pe08 is already up-to-date!\n",
            "[nltk_data]    | Downloading package pil to\n",
            "[nltk_data]    |     C:\\Users\\deco\\AppData\\Roaming\\nltk_data...\n",
            "[nltk_data]    |   Package pil is already up-to-date!\n",
            "[nltk_data]    | Downloading package pl196x to\n",
            "[nltk_data]    |     C:\\Users\\deco\\AppData\\Roaming\\nltk_data...\n",
            "[nltk_data]    |   Package pl196x is already up-to-date!\n",
            "[nltk_data]    | Downloading package ppattach to\n",
            "[nltk_data]    |     C:\\Users\\deco\\AppData\\Roaming\\nltk_data...\n",
            "[nltk_data]    |   Package ppattach is already up-to-date!\n",
            "[nltk_data]    | Downloading package problem_reports to\n",
            "[nltk_data]    |     C:\\Users\\deco\\AppData\\Roaming\\nltk_data...\n",
            "[nltk_data]    |   Package problem_reports is already up-to-date!\n",
            "[nltk_data]    | Downloading package product_reviews_1 to\n",
            "[nltk_data]    |     C:\\Users\\deco\\AppData\\Roaming\\nltk_data...\n",
            "[nltk_data]    |   Package product_reviews_1 is already up-to-date!\n",
            "[nltk_data]    | Downloading package product_reviews_2 to\n",
            "[nltk_data]    |     C:\\Users\\deco\\AppData\\Roaming\\nltk_data...\n",
            "[nltk_data]    |   Package product_reviews_2 is already up-to-date!\n",
            "[nltk_data]    | Downloading package propbank to\n",
            "[nltk_data]    |     C:\\Users\\deco\\AppData\\Roaming\\nltk_data...\n",
            "[nltk_data]    |   Package propbank is already up-to-date!\n",
            "[nltk_data]    | Downloading package pros_cons to\n",
            "[nltk_data]    |     C:\\Users\\deco\\AppData\\Roaming\\nltk_data...\n",
            "[nltk_data]    |   Package pros_cons is already up-to-date!\n",
            "[nltk_data]    | Downloading package ptb to\n",
            "[nltk_data]    |     C:\\Users\\deco\\AppData\\Roaming\\nltk_data...\n",
            "[nltk_data]    |   Package ptb is already up-to-date!\n",
            "[nltk_data]    | Downloading package qc to\n",
            "[nltk_data]    |     C:\\Users\\deco\\AppData\\Roaming\\nltk_data...\n",
            "[nltk_data]    |   Package qc is already up-to-date!\n",
            "[nltk_data]    | Downloading package reuters to\n",
            "[nltk_data]    |     C:\\Users\\deco\\AppData\\Roaming\\nltk_data...\n",
            "[nltk_data]    |   Package reuters is already up-to-date!\n",
            "[nltk_data]    | Downloading package rte to\n",
            "[nltk_data]    |     C:\\Users\\deco\\AppData\\Roaming\\nltk_data...\n",
            "[nltk_data]    |   Package rte is already up-to-date!\n",
            "[nltk_data]    | Downloading package semcor to\n",
            "[nltk_data]    |     C:\\Users\\deco\\AppData\\Roaming\\nltk_data...\n",
            "[nltk_data]    |   Package semcor is already up-to-date!\n",
            "[nltk_data]    | Downloading package senseval to\n",
            "[nltk_data]    |     C:\\Users\\deco\\AppData\\Roaming\\nltk_data...\n",
            "[nltk_data]    |   Package senseval is already up-to-date!\n",
            "[nltk_data]    | Downloading package sentence_polarity to\n",
            "[nltk_data]    |     C:\\Users\\deco\\AppData\\Roaming\\nltk_data...\n",
            "[nltk_data]    |   Package sentence_polarity is already up-to-date!\n",
            "[nltk_data]    | Downloading package sentiwordnet to\n",
            "[nltk_data]    |     C:\\Users\\deco\\AppData\\Roaming\\nltk_data...\n",
            "[nltk_data]    |   Package sentiwordnet is already up-to-date!\n",
            "[nltk_data]    | Downloading package shakespeare to\n",
            "[nltk_data]    |     C:\\Users\\deco\\AppData\\Roaming\\nltk_data...\n",
            "[nltk_data]    |   Package shakespeare is already up-to-date!\n",
            "[nltk_data]    | Downloading package sinica_treebank to\n",
            "[nltk_data]    |     C:\\Users\\deco\\AppData\\Roaming\\nltk_data...\n",
            "[nltk_data]    |   Package sinica_treebank is already up-to-date!\n",
            "[nltk_data]    | Downloading package smultron to\n",
            "[nltk_data]    |     C:\\Users\\deco\\AppData\\Roaming\\nltk_data...\n",
            "[nltk_data]    |   Package smultron is already up-to-date!\n",
            "[nltk_data]    | Downloading package state_union to\n",
            "[nltk_data]    |     C:\\Users\\deco\\AppData\\Roaming\\nltk_data...\n",
            "[nltk_data]    |   Package state_union is already up-to-date!\n",
            "[nltk_data]    | Downloading package stopwords to\n",
            "[nltk_data]    |     C:\\Users\\deco\\AppData\\Roaming\\nltk_data...\n",
            "[nltk_data]    |   Package stopwords is already up-to-date!\n",
            "[nltk_data]    | Downloading package subjectivity to\n",
            "[nltk_data]    |     C:\\Users\\deco\\AppData\\Roaming\\nltk_data...\n",
            "[nltk_data]    |   Package subjectivity is already up-to-date!\n",
            "[nltk_data]    | Downloading package swadesh to\n",
            "[nltk_data]    |     C:\\Users\\deco\\AppData\\Roaming\\nltk_data...\n",
            "[nltk_data]    |   Package swadesh is already up-to-date!\n",
            "[nltk_data]    | Downloading package switchboard to\n",
            "[nltk_data]    |     C:\\Users\\deco\\AppData\\Roaming\\nltk_data...\n",
            "[nltk_data]    |   Package switchboard is already up-to-date!\n",
            "[nltk_data]    | Downloading package timit to\n",
            "[nltk_data]    |     C:\\Users\\deco\\AppData\\Roaming\\nltk_data...\n",
            "[nltk_data]    |   Package timit is already up-to-date!\n",
            "[nltk_data]    | Downloading package toolbox to\n",
            "[nltk_data]    |     C:\\Users\\deco\\AppData\\Roaming\\nltk_data...\n",
            "[nltk_data]    |   Package toolbox is already up-to-date!\n",
            "[nltk_data]    | Downloading package treebank to\n",
            "[nltk_data]    |     C:\\Users\\deco\\AppData\\Roaming\\nltk_data...\n",
            "[nltk_data]    |   Package treebank is already up-to-date!\n",
            "[nltk_data]    | Downloading package twitter_samples to\n",
            "[nltk_data]    |     C:\\Users\\deco\\AppData\\Roaming\\nltk_data...\n",
            "[nltk_data]    |   Package twitter_samples is already up-to-date!\n",
            "[nltk_data]    | Downloading package udhr to\n",
            "[nltk_data]    |     C:\\Users\\deco\\AppData\\Roaming\\nltk_data...\n",
            "[nltk_data]    |   Package udhr is already up-to-date!\n",
            "[nltk_data]    | Downloading package udhr2 to\n",
            "[nltk_data]    |     C:\\Users\\deco\\AppData\\Roaming\\nltk_data...\n",
            "[nltk_data]    |   Package udhr2 is already up-to-date!\n",
            "[nltk_data]    | Downloading package unicode_samples to\n",
            "[nltk_data]    |     C:\\Users\\deco\\AppData\\Roaming\\nltk_data...\n",
            "[nltk_data]    |   Package unicode_samples is already up-to-date!\n",
            "[nltk_data]    | Downloading package universal_treebanks_v20 to\n",
            "[nltk_data]    |     C:\\Users\\deco\\AppData\\Roaming\\nltk_data...\n",
            "[nltk_data]    |   Package universal_treebanks_v20 is already up-to-\n",
            "[nltk_data]    |       date!\n",
            "[nltk_data]    | Downloading package verbnet to\n",
            "[nltk_data]    |     C:\\Users\\deco\\AppData\\Roaming\\nltk_data...\n",
            "[nltk_data]    |   Package verbnet is already up-to-date!\n",
            "[nltk_data]    | Downloading package verbnet3 to\n",
            "[nltk_data]    |     C:\\Users\\deco\\AppData\\Roaming\\nltk_data...\n",
            "[nltk_data]    |   Package verbnet3 is already up-to-date!\n",
            "[nltk_data]    | Downloading package webtext to\n",
            "[nltk_data]    |     C:\\Users\\deco\\AppData\\Roaming\\nltk_data...\n",
            "[nltk_data]    |   Package webtext is already up-to-date!\n",
            "[nltk_data]    | Downloading package wordnet to\n",
            "[nltk_data]    |     C:\\Users\\deco\\AppData\\Roaming\\nltk_data...\n",
            "[nltk_data]    |   Package wordnet is already up-to-date!\n",
            "[nltk_data]    | Downloading package wordnet2021 to\n",
            "[nltk_data]    |     C:\\Users\\deco\\AppData\\Roaming\\nltk_data...\n",
            "[nltk_data]    |   Package wordnet2021 is already up-to-date!\n",
            "[nltk_data]    | Downloading package wordnet2022 to\n",
            "[nltk_data]    |     C:\\Users\\deco\\AppData\\Roaming\\nltk_data...\n",
            "[nltk_data]    |   Package wordnet2022 is already up-to-date!\n",
            "[nltk_data]    | Downloading package wordnet31 to\n",
            "[nltk_data]    |     C:\\Users\\deco\\AppData\\Roaming\\nltk_data...\n",
            "[nltk_data]    |   Package wordnet31 is already up-to-date!\n",
            "[nltk_data]    | Downloading package wordnet_ic to\n",
            "[nltk_data]    |     C:\\Users\\deco\\AppData\\Roaming\\nltk_data...\n",
            "[nltk_data]    |   Package wordnet_ic is already up-to-date!\n",
            "[nltk_data]    | Downloading package words to\n",
            "[nltk_data]    |     C:\\Users\\deco\\AppData\\Roaming\\nltk_data...\n",
            "[nltk_data]    |   Package words is already up-to-date!\n",
            "[nltk_data]    | Downloading package ycoe to\n",
            "[nltk_data]    |     C:\\Users\\deco\\AppData\\Roaming\\nltk_data...\n",
            "[nltk_data]    |   Package ycoe is already up-to-date!\n",
            "[nltk_data]    | \n",
            "[nltk_data]  Done downloading collection all-corpora\n",
            "[nltk_data] Downloading package punkt to\n",
            "[nltk_data]     C:\\Users\\deco\\AppData\\Roaming\\nltk_data...\n",
            "[nltk_data]   Package punkt is already up-to-date!\n",
            "[nltk_data] Downloading package punkt_tab to\n",
            "[nltk_data]     C:\\Users\\deco\\AppData\\Roaming\\nltk_data...\n",
            "[nltk_data]   Package punkt_tab is already up-to-date!\n"
          ]
        },
        {
          "data": {
            "text/plain": [
              "True"
            ]
          },
          "execution_count": 40,
          "metadata": {},
          "output_type": "execute_result"
        }
      ],
      "source": [
        "import warnings\n",
        "warnings.filterwarnings(action='ignore')\n",
        "import nltk  # type: ignore\n",
        "\n",
        "nltk.download(\"all-corpora\")\n",
        "nltk.download(\"punkt\")\n",
        "nltk.download(\"punkt_tab\")"
      ]
    },
    {
      "cell_type": "code",
      "execution_count": 20,
      "metadata": {},
      "outputs": [],
      "source": [
        "import nltk"
      ]
    },
    {
      "cell_type": "markdown",
      "metadata": {
        "id": "DlE9gw6hVa4X"
      },
      "source": [
        "`nltk.book` has multiple books texts to be used. `texts()` function will list them. Then, any time we want to find out about these texts, you just have to enter their names at the Python prompt."
      ]
    },
    {
      "cell_type": "code",
      "execution_count": null,
      "metadata": {
        "colab": {
          "base_uri": "https://localhost:8080/"
        },
        "id": "MLKANdMVVwqG",
        "outputId": "a27fbf61-f255-4e23-d5df-735c1318aa44"
      },
      "outputs": [
        {
          "name": "stdout",
          "output_type": "stream",
          "text": [
            "*** Introductory Examples for the NLTK Book ***\n",
            "Loading text1, ..., text9 and sent1, ..., sent9\n",
            "Type the name of the text or sentence to view it.\n",
            "Type: 'texts()' or 'sents()' to list the materials.\n",
            "text1: Moby Dick by Herman Melville 1851\n",
            "text2: Sense and Sensibility by Jane Austen 1811\n",
            "text3: The Book of Genesis\n",
            "text4: Inaugural Address Corpus\n",
            "text5: Chat Corpus\n",
            "text6: Monty Python and the Holy Grail\n",
            "text7: Wall Street Journal\n",
            "text8: Personals Corpus\n",
            "text9: The Man Who Was Thursday by G . K . Chesterton 1908\n"
          ]
        }
      ],
      "source": [
        "from nltk.book import * # type: ignore"
      ]
    },
    {
      "cell_type": "code",
      "execution_count": null,
      "metadata": {
        "colab": {
          "base_uri": "https://localhost:8080/"
        },
        "id": "rDQTR5c_14ih",
        "outputId": "1546ff81-d328-471e-d543-1cdabe751abd"
      },
      "outputs": [
        {
          "name": "stdout",
          "output_type": "stream",
          "text": [
            "text1: Moby Dick by Herman Melville 1851\n",
            "text2: Sense and Sensibility by Jane Austen 1811\n",
            "text3: The Book of Genesis\n",
            "text4: Inaugural Address Corpus\n",
            "text5: Chat Corpus\n",
            "text6: Monty Python and the Holy Grail\n",
            "text7: Wall Street Journal\n",
            "text8: Personals Corpus\n",
            "text9: The Man Who Was Thursday by G . K . Chesterton 1908\n"
          ]
        }
      ],
      "source": [
        "texts() # type: ignore"
      ]
    },
    {
      "cell_type": "code",
      "execution_count": null,
      "metadata": {
        "colab": {
          "base_uri": "https://localhost:8080/"
        },
        "id": "tT-eIRx097jF",
        "outputId": "075cac27-ee3e-4ebf-94e5-ce24ed77234b"
      },
      "outputs": [
        {
          "data": {
            "text/plain": [
              "<Text: Moby Dick by Herman Melville 1851>"
            ]
          },
          "execution_count": 4,
          "metadata": {},
          "output_type": "execute_result"
        }
      ],
      "source": [
        "text1 # type: ignore"
      ]
    },
    {
      "cell_type": "code",
      "execution_count": null,
      "metadata": {
        "colab": {
          "base_uri": "https://localhost:8080/"
        },
        "id": "GUmn2B2wXTLd",
        "outputId": "ad510659-4ba3-4831-a964-c03990910375"
      },
      "outputs": [
        {
          "data": {
            "text/plain": [
              "<Text: Sense and Sensibility by Jane Austen 1811>"
            ]
          },
          "execution_count": 5,
          "metadata": {},
          "output_type": "execute_result"
        }
      ],
      "source": [
        "text2 # type: ignore"
      ]
    },
    {
      "cell_type": "code",
      "execution_count": null,
      "metadata": {
        "colab": {
          "base_uri": "https://localhost:8080/"
        },
        "id": "-VrP84AdXdw6",
        "outputId": "626a9d9a-a47b-4718-cc38-6c25af8c11df"
      },
      "outputs": [
        {
          "data": {
            "text/plain": [
              "<Text: The Book of Genesis>"
            ]
          },
          "execution_count": 6,
          "metadata": {},
          "output_type": "execute_result"
        }
      ],
      "source": [
        "text3 # type: ignore"
      ]
    },
    {
      "cell_type": "code",
      "execution_count": null,
      "metadata": {
        "colab": {
          "base_uri": "https://localhost:8080/"
        },
        "id": "9D7Q_1KztCsF",
        "outputId": "98d7d6ee-81ff-4c41-cfd5-65b14f09e823"
      },
      "outputs": [
        {
          "data": {
            "text/plain": [
              "<Text: Inaugural Address Corpus>"
            ]
          },
          "execution_count": 7,
          "metadata": {},
          "output_type": "execute_result"
        }
      ],
      "source": [
        "text4 # type: ignore"
      ]
    },
    {
      "cell_type": "code",
      "execution_count": null,
      "metadata": {
        "colab": {
          "base_uri": "https://localhost:8080/"
        },
        "id": "oJY9RF8R2Qap",
        "outputId": "07e76c2e-c57f-413e-cf98-b91cbf24da85"
      },
      "outputs": [
        {
          "data": {
            "text/plain": [
              "<Text: Monty Python and the Holy Grail>"
            ]
          },
          "execution_count": 8,
          "metadata": {},
          "output_type": "execute_result"
        }
      ],
      "source": [
        "text6 # type: ignore"
      ]
    },
    {
      "cell_type": "markdown",
      "metadata": {
        "id": "mM8bcwKC14ij"
      },
      "source": [
        "###  Try find out text5, or text9 to find out the title here"
      ]
    },
    {
      "cell_type": "markdown",
      "metadata": {
        "id": "3v0Lyp88sFv7"
      },
      "source": [
        "# *Searching  Texts*"
      ]
    },
    {
      "cell_type": "markdown",
      "metadata": {
        "id": "dFwlctRgTF0U"
      },
      "source": [
        "Some quick commands are shown as how to access and operate texts. This is for familarization, don't worry about the codes if you cannot follow. Just focus on the words input, and output."
      ]
    },
    {
      "cell_type": "code",
      "execution_count": null,
      "metadata": {
        "colab": {
          "base_uri": "https://localhost:8080/"
        },
        "id": "46lnUCYJYHIv",
        "outputId": "42093b0f-558d-4c75-9cb9-e862ae14e42e"
      },
      "outputs": [
        {
          "name": "stdout",
          "output_type": "stream",
          "text": [
            "Displaying 11 of 11 matches:\n",
            ". \" Now , Palmer , you shall see a monstrous pretty girl .\" He immediately went\n",
            "your sister is to marry him . I am monstrous glad of it , for then I shall have\n",
            "ou may tell your sister . She is a monstrous lucky girl to get him , upon my ho\n",
            "k how you will like them . Lucy is monstrous pretty , and so good humoured and \n",
            " Jennings , \" I am sure I shall be monstrous glad of Miss Marianne ' s company \n",
            " usual noisy cheerfulness , \" I am monstrous glad to see you -- sorry I could n\n",
            "t however , as it turns out , I am monstrous glad there was never any thing in \n",
            "so scornfully ! for they say he is monstrous fond of her , as well he may . I s\n",
            "possible that she should .\" \" I am monstrous glad of it . Good gracious ! I hav\n",
            "thing of the kind . So then he was monstrous happy , and talked on some time ab\n",
            "e very genteel people . He makes a monstrous deal of money , and they keep thei\n"
          ]
        }
      ],
      "source": [
        "text2.concordance(\"monstrous\") # type: ignore # fines every use of \"monstrous\" and then prints the entire sentance they are used in"
      ]
    },
    {
      "cell_type": "code",
      "execution_count": 8,
      "metadata": {
        "colab": {
          "base_uri": "https://localhost:8080/"
        },
        "id": "PRdVYpSofWjZ",
        "outputId": "66348a34-4dd2-43f5-9f64-84b9ccdc997b"
      },
      "outputs": [
        {
          "name": "stdout",
          "output_type": "stream",
          "text": [
            "very so exceedingly heartily a as good great extremely remarkably\n",
            "sweet vast amazingly\n"
          ]
        }
      ],
      "source": [
        "text2.similar(\"monstrous\") # finds words deemed similar"
      ]
    },
    {
      "cell_type": "code",
      "execution_count": 9,
      "metadata": {
        "colab": {
          "base_uri": "https://localhost:8080/"
        },
        "id": "eN5S-9nggUi4",
        "outputId": "73251a96-c1bc-4baa-fffd-1fa5483384e0"
      },
      "outputs": [
        {
          "name": "stdout",
          "output_type": "stream",
          "text": [
            "all something pleasing rich happy obliged of in at a good his but he\n",
            "spent from added soon nothing only\n"
          ]
        }
      ],
      "source": [
        "text2.similar(\"interesting\")"
      ]
    },
    {
      "cell_type": "code",
      "execution_count": 10,
      "metadata": {
        "colab": {
          "base_uri": "https://localhost:8080/"
        },
        "id": "xN2o_W9dg1Vb",
        "outputId": "e70fbf5d-2978-4d27-fef7-229529edfa1f"
      },
      "outputs": [
        {
          "name": "stdout",
          "output_type": "stream",
          "text": [
            "am_glad a_pretty a_lucky is_pretty be_glad\n"
          ]
        }
      ],
      "source": [
        "text2.common_contexts([\"monstrous\", \"very\"]) # most common words around the word \"mounstrous\" and \"very\""
      ]
    },
    {
      "cell_type": "code",
      "execution_count": 11,
      "metadata": {
        "colab": {
          "base_uri": "https://localhost:8080/",
          "height": 472
        },
        "id": "uApBTUETx6j2",
        "outputId": "33c336c0-bfee-4cea-d7b2-55c0cf3f5f9f"
      },
      "outputs": [
        {
          "data": {
            "image/png": "[encoded data removed]",
            "text/plain": [
              "<Figure size 640x480 with 1 Axes>"
            ]
          },
          "metadata": {},
          "output_type": "display_data"
        }
      ],
      "source": [
        "text4.dispersion_plot([\"citizens\", \"democracy\", \"freedom\", \"duties\", \"America\"]) # distribution of specified words"
      ]
    },
    {
      "cell_type": "markdown",
      "metadata": {
        "id": "OyClFOGGYCkT"
      },
      "source": [
        "### Question 1.Why a concordance view is useful for searching?\n",
        "\n",
        "\n"
      ]
    },
    {
      "cell_type": "markdown",
      "metadata": {
        "id": "KBKvzapG7_RT"
      },
      "source": [
        "Your answer here: Useful for searching as one can view the contextual sentance that the certain word is used in, helping find meaning of the word through surrounding words and where in the text they are used."
      ]
    },
    {
      "cell_type": "markdown",
      "metadata": {
        "id": "XymhzujN14il"
      },
      "source": [
        "### try write a similar code here (Try to change a different text*  and \"words\" in the code above)"
      ]
    },
    {
      "cell_type": "code",
      "execution_count": 12,
      "metadata": {
        "colab": {
          "base_uri": "https://localhost:8080/"
        },
        "id": "5uIWrShGtDsL",
        "outputId": "6b252cba-d136-412d-9cbe-3ecfaed300c9"
      },
      "outputs": [
        {
          "name": "stdout",
          "output_type": "stream",
          "text": [
            "Displaying 25 of 69 matches:\n",
            "usic ] [ music stops ] HEAD KNIGHT OF NI : Ni ! KNIGHTS OF NI : Ni ! Ni ! Ni !\n",
            "] [ music stops ] HEAD KNIGHT OF NI : Ni ! KNIGHTS OF NI : Ni ! Ni ! Ni ! Ni !\n",
            "] HEAD KNIGHT OF NI : Ni ! KNIGHTS OF NI : Ni ! Ni ! Ni ! Ni ! Ni ! ARTHUR : W\n",
            "D KNIGHT OF NI : Ni ! KNIGHTS OF NI : Ni ! Ni ! Ni ! Ni ! Ni ! ARTHUR : Who ar\n",
            "GHT OF NI : Ni ! KNIGHTS OF NI : Ni ! Ni ! Ni ! Ni ! Ni ! ARTHUR : Who are you\n",
            "F NI : Ni ! KNIGHTS OF NI : Ni ! Ni ! Ni ! Ni ! Ni ! ARTHUR : Who are you ? HE\n",
            ": Ni ! KNIGHTS OF NI : Ni ! Ni ! Ni ! Ni ! Ni ! ARTHUR : Who are you ? HEAD KN\n",
            "! KNIGHTS OF NI : Ni ! Ni ! Ni ! Ni ! Ni ! ARTHUR : Who are you ? HEAD KNIGHT \n",
            "HT : We are the Knights Who Say ... ' Ni '! RANDOM : Ni ! ARTHUR : No ! Not th\n",
            " Knights Who Say ... ' Ni '! RANDOM : Ni ! ARTHUR : No ! Not the Knights Who S\n",
            "THUR : No ! Not the Knights Who Say ' Ni '! HEAD KNIGHT : The same ! BEDEVERE \n",
            "are the keepers of the sacred words : Ni , Peng , and Neee - wom ! RANDOM : Ne\n",
            "! HEAD KNIGHT : The Knights Who Say ' Ni ' demand a sacrifice ! ARTHUR : Knigh\n",
            "and a sacrifice ! ARTHUR : Knights of Ni , we are but simple travellers who se\n",
            "es beyond these woods . HEAD KNIGHT : Ni ! KNIGHTS OF NI : Ni ! Ni ! Ni ! Ni !\n",
            "woods . HEAD KNIGHT : Ni ! KNIGHTS OF NI : Ni ! Ni ! Ni ! Ni ! Ni ! ... ARTHUR\n",
            " . HEAD KNIGHT : Ni ! KNIGHTS OF NI : Ni ! Ni ! Ni ! Ni ! Ni ! ... ARTHUR : Ow\n",
            "AD KNIGHT : Ni ! KNIGHTS OF NI : Ni ! Ni ! Ni ! Ni ! Ni ! ... ARTHUR : Ow ! Ow\n",
            "IGHT : Ni ! KNIGHTS OF NI : Ni ! Ni ! Ni ! Ni ! Ni ! ... ARTHUR : Ow ! Ow ! Ow\n",
            ": Ni ! KNIGHTS OF NI : Ni ! Ni ! Ni ! Ni ! Ni ! ... ARTHUR : Ow ! Ow ! Ow ! Ag\n",
            "! KNIGHTS OF NI : Ni ! Ni ! Ni ! Ni ! Ni ! ... ARTHUR : Ow ! Ow ! Ow ! Agh ! H\n",
            " ! Agh ! HEAD KNIGHT : We shall say ' ni ' again to you if you do not appease \n",
            " chord ] ARTHUR : A what ? KNIGHTS OF NI : Ni ! Ni ! Ni ! Ni ! ARTHUR and PART\n",
            "d ] ARTHUR : A what ? KNIGHTS OF NI : Ni ! Ni ! Ni ! Ni ! ARTHUR and PARTY : O\n",
            "RTHUR : A what ? KNIGHTS OF NI : Ni ! Ni ! Ni ! Ni ! ARTHUR and PARTY : Ow ! O\n"
          ]
        }
      ],
      "source": [
        "# you code here\n",
        "text6.concordance(\"ni\")"
      ]
    },
    {
      "cell_type": "markdown",
      "metadata": {
        "id": "LkyTaY4ehIF1"
      },
      "source": [
        "#  *Counting Vocabulary*"
      ]
    },
    {
      "cell_type": "code",
      "execution_count": 13,
      "metadata": {
        "colab": {
          "base_uri": "https://localhost:8080/"
        },
        "id": "Lh1i3gpEyPXN",
        "outputId": "32dc5378-0c4b-4b82-ec26-08489318d006"
      },
      "outputs": [
        {
          "data": {
            "text/plain": [
              "141576"
            ]
          },
          "execution_count": 13,
          "metadata": {},
          "output_type": "execute_result"
        }
      ],
      "source": [
        "len(text2) # total word count of text2? or letter count"
      ]
    },
    {
      "cell_type": "code",
      "execution_count": 14,
      "metadata": {
        "colab": {
          "base_uri": "https://localhost:8080/"
        },
        "collapsed": true,
        "id": "GIlDPvOxryyY",
        "outputId": "cd124be5-95fc-45e2-fc9a-6528c28ba8ee"
      },
      "outputs": [
        {
          "data": {
            "text/plain": [
              "['!',\n",
              " '!\"',\n",
              " '!\"--',\n",
              " \"!'\",\n",
              " '!\\'\"',\n",
              " '!--',\n",
              " '!--\"',\n",
              " '\"',\n",
              " '\"\\'',\n",
              " '\"--',\n",
              " '&',\n",
              " \"'\",\n",
              " \"',\",\n",
              " \"'--\",\n",
              " '(',\n",
              " ')',\n",
              " '),',\n",
              " ')--',\n",
              " '***',\n",
              " ',',\n",
              " ',\"',\n",
              " ',\"--',\n",
              " \",'\",\n",
              " ',)',\n",
              " ',-',\n",
              " ',--',\n",
              " ',--\"',\n",
              " '-',\n",
              " '--',\n",
              " '--\"',\n",
              " \"--'\",\n",
              " '--(',\n",
              " '--,',\n",
              " '-?',\n",
              " '-?\"',\n",
              " '.',\n",
              " '.\"',\n",
              " '.\"--',\n",
              " \".'\",\n",
              " '.\\'\"',\n",
              " \".'--\",\n",
              " '.)',\n",
              " '.)--',\n",
              " '.--',\n",
              " '.--\"',\n",
              " '...',\n",
              " '...\"',\n",
              " '.]',\n",
              " '1',\n",
              " '10',\n",
              " '11',\n",
              " '12',\n",
              " '13',\n",
              " '14',\n",
              " '15',\n",
              " '16',\n",
              " '17',\n",
              " '18',\n",
              " '1811',\n",
              " '19',\n",
              " '2',\n",
              " '20',\n",
              " '200',\n",
              " '21',\n",
              " '22',\n",
              " '23',\n",
              " '24',\n",
              " '25',\n",
              " '26',\n",
              " '27',\n",
              " '28',\n",
              " '29',\n",
              " '3',\n",
              " '30',\n",
              " '31',\n",
              " '32',\n",
              " '33',\n",
              " '34',\n",
              " '35',\n",
              " '36',\n",
              " '37',\n",
              " '38',\n",
              " '39',\n",
              " '4',\n",
              " '40',\n",
              " '41',\n",
              " '42',\n",
              " '43',\n",
              " '44',\n",
              " '45',\n",
              " '46',\n",
              " '47',\n",
              " '48',\n",
              " '49',\n",
              " '5',\n",
              " '50',\n",
              " '6',\n",
              " '7',\n",
              " '7000L',\n",
              " '8',\n",
              " '9',\n",
              " ':',\n",
              " ':--',\n",
              " ':--\"',\n",
              " ';',\n",
              " ';\"',\n",
              " ';\"--',\n",
              " \";'\",\n",
              " ';--',\n",
              " ';--\"',\n",
              " '>',\n",
              " '?',\n",
              " '?\"',\n",
              " '?\"--',\n",
              " \"?'\",\n",
              " '?)',\n",
              " '?--',\n",
              " '?--\"',\n",
              " 'A',\n",
              " 'ALL',\n",
              " 'ALMOST',\n",
              " 'ALWAYS',\n",
              " 'AM',\n",
              " 'ANY',\n",
              " 'ARE',\n",
              " 'Abbeyland',\n",
              " 'About',\n",
              " 'Absence',\n",
              " 'Abundance',\n",
              " 'Add',\n",
              " 'Affecting',\n",
              " 'After',\n",
              " 'Again',\n",
              " 'Against',\n",
              " 'Ah',\n",
              " 'All',\n",
              " 'Allenham',\n",
              " 'Allow',\n",
              " 'Almost',\n",
              " 'Altogether',\n",
              " 'Am',\n",
              " 'Among',\n",
              " 'Amongst',\n",
              " 'An',\n",
              " 'And',\n",
              " 'Annamaria',\n",
              " 'Anne',\n",
              " 'Another',\n",
              " 'Anxiety',\n",
              " 'April',\n",
              " 'Are',\n",
              " 'As',\n",
              " 'Ashamed',\n",
              " 'Astonished',\n",
              " 'Astonishment',\n",
              " 'At',\n",
              " 'Austen',\n",
              " 'Avignon',\n",
              " 'Ay',\n",
              " 'Aye',\n",
              " 'BEEN',\n",
              " 'BOTH',\n",
              " 'Bad',\n",
              " 'Bartlett',\n",
              " 'Barton',\n",
              " 'Bath',\n",
              " 'Beautifully',\n",
              " 'Because',\n",
              " 'Before',\n",
              " 'Being',\n",
              " 'Believe',\n",
              " 'Benevolent',\n",
              " 'Berkeley',\n",
              " 'Besides',\n",
              " 'Betty',\n",
              " 'Between',\n",
              " 'Beyond',\n",
              " 'Biddy',\n",
              " 'Bishop',\n",
              " 'Bond',\n",
              " 'Bonomi',\n",
              " 'Born',\n",
              " 'Brandon',\n",
              " 'Bristol',\n",
              " 'Brown',\n",
              " 'Building',\n",
              " 'Buildings',\n",
              " 'Burgess',\n",
              " 'Business',\n",
              " 'But',\n",
              " 'By',\n",
              " 'CAN',\n",
              " 'CATCHING',\n",
              " 'CHAPTER',\n",
              " 'COULD',\n",
              " 'Can',\n",
              " 'Careless',\n",
              " 'Careys',\n",
              " 'Cartwright',\n",
              " 'Casino',\n",
              " 'Cassino',\n",
              " 'Certainly',\n",
              " 'Chagrined',\n",
              " 'Charlotte',\n",
              " 'Choice',\n",
              " 'Christian',\n",
              " 'Christmas',\n",
              " 'Civil',\n",
              " 'Clarke',\n",
              " 'Cleveland',\n",
              " 'Cold',\n",
              " 'Colonel',\n",
              " 'Columella',\n",
              " 'Combe',\n",
              " 'Come',\n",
              " 'Common',\n",
              " 'Comparisons',\n",
              " 'Concealing',\n",
              " 'Concern',\n",
              " 'Conduit',\n",
              " 'Confess',\n",
              " 'Consider',\n",
              " 'Considering',\n",
              " 'Constantia',\n",
              " 'Continual',\n",
              " 'Conversation',\n",
              " 'Cottage',\n",
              " 'Could',\n",
              " 'Court',\n",
              " 'Courtland',\n",
              " 'Cowper',\n",
              " 'Cross',\n",
              " 'Cruel',\n",
              " 'D',\n",
              " 'DEAR',\n",
              " 'DID',\n",
              " 'DO',\n",
              " 'DOES',\n",
              " 'DRAW',\n",
              " 'Dartford',\n",
              " 'Dashwood',\n",
              " 'Dashwoods',\n",
              " 'Davies',\n",
              " 'Dawlish',\n",
              " 'Dear',\n",
              " 'Dearest',\n",
              " 'Delaford',\n",
              " 'Dennison',\n",
              " 'Depend',\n",
              " 'Design',\n",
              " 'Determined',\n",
              " 'Devonshire',\n",
              " 'Did',\n",
              " 'Disappointed',\n",
              " 'Disappointment',\n",
              " 'Do',\n",
              " 'Doctor',\n",
              " 'Does',\n",
              " 'Domestic',\n",
              " 'Don',\n",
              " 'Donavan',\n",
              " 'Dorsetshire',\n",
              " 'Down',\n",
              " 'Dr',\n",
              " 'Drury',\n",
              " 'Dullness',\n",
              " 'During',\n",
              " 'Duty',\n",
              " 'EDWARD',\n",
              " 'ELINOR',\n",
              " 'END',\n",
              " 'ESTEEM',\n",
              " 'Each',\n",
              " 'Eager',\n",
              " 'Early',\n",
              " 'East',\n",
              " 'Easter',\n",
              " 'Edward',\n",
              " 'Elinor',\n",
              " 'Eliza',\n",
              " 'Elliott',\n",
              " 'Ellison',\n",
              " 'Ellisons',\n",
              " 'Encouraged',\n",
              " 'Engaged',\n",
              " 'Engagement',\n",
              " 'England',\n",
              " 'Epicurism',\n",
              " 'Esq',\n",
              " 'Esteem',\n",
              " 'Even',\n",
              " 'Every',\n",
              " 'Everybody',\n",
              " 'Excellent',\n",
              " 'Exchange',\n",
              " 'Excuse',\n",
              " 'Exert',\n",
              " 'Exeter',\n",
              " 'Extend',\n",
              " 'Extravagance',\n",
              " 'F',\n",
              " 'FAITH',\n",
              " 'FERRARS',\n",
              " 'Fanny',\n",
              " 'Far',\n",
              " 'Farm',\n",
              " 'February',\n",
              " 'Ferrars',\n",
              " 'Few',\n",
              " 'Fifteen',\n",
              " 'Fifty',\n",
              " 'Five',\n",
              " 'Folly',\n",
              " 'For',\n",
              " 'Forgive',\n",
              " 'Fortunately',\n",
              " 'Four',\n",
              " 'Friday',\n",
              " 'From',\n",
              " 'Frosts',\n",
              " 'GAUCHERIE',\n",
              " 'Gardens',\n",
              " 'Gentleman',\n",
              " 'Get',\n",
              " 'Gibson',\n",
              " 'Gilberts',\n",
              " 'Go',\n",
              " 'God',\n",
              " 'Godby',\n",
              " 'Going',\n",
              " 'Gone',\n",
              " 'Good',\n",
              " 'Gracious',\n",
              " 'Grandeur',\n",
              " 'Gray',\n",
              " 'Greatness',\n",
              " 'Grecian',\n",
              " 'Grey',\n",
              " 'HAD',\n",
              " 'HAS',\n",
              " 'HE',\n",
              " 'HER',\n",
              " 'HERS',\n",
              " 'HIM',\n",
              " 'HIS',\n",
              " 'Had',\n",
              " 'Half',\n",
              " 'Hamlet',\n",
              " 'Hanger',\n",
              " 'Hanover',\n",
              " 'Happy',\n",
              " 'Harley',\n",
              " 'Harris',\n",
              " 'Harry',\n",
              " 'Has',\n",
              " 'Have',\n",
              " 'Having',\n",
              " 'He',\n",
              " 'Heaven',\n",
              " 'Henry',\n",
              " 'Henshawe',\n",
              " 'Her',\n",
              " 'Here',\n",
              " 'High',\n",
              " 'His',\n",
              " 'Hitherto',\n",
              " 'Holborn',\n",
              " 'Holburn',\n",
              " 'Hon',\n",
              " 'Honiton',\n",
              " 'Hope',\n",
              " 'Hour',\n",
              " 'House',\n",
              " 'How',\n",
              " 'However',\n",
              " 'Hum',\n",
              " 'Hunters',\n",
              " 'Hush',\n",
              " 'I',\n",
              " 'II',\n",
              " 'IN',\n",
              " 'INconvenience',\n",
              " 'IS',\n",
              " 'If',\n",
              " 'Imagine',\n",
              " 'Impatient',\n",
              " 'Impossible',\n",
              " 'Improve',\n",
              " 'Impudence',\n",
              " 'In',\n",
              " 'Indeed',\n",
              " 'Indies',\n",
              " 'Infirmity',\n",
              " 'Inn',\n",
              " 'Instead',\n",
              " 'Invited',\n",
              " 'Is',\n",
              " 'It',\n",
              " 'JOHN',\n",
              " 'James',\n",
              " 'Jane',\n",
              " 'January',\n",
              " 'Jenning',\n",
              " 'Jennings',\n",
              " 'John',\n",
              " 'Just',\n",
              " 'KNEW',\n",
              " 'Kensington',\n",
              " 'Kingham',\n",
              " 'Know',\n",
              " 'Knowing',\n",
              " 'L',\n",
              " 'LESS',\n",
              " 'LET',\n",
              " 'LONG',\n",
              " 'LOOK',\n",
              " 'LOOKED',\n",
              " 'LUCY',\n",
              " 'La',\n",
              " 'Lady',\n",
              " 'Ladyship',\n",
              " 'Lane',\n",
              " 'Last',\n",
              " 'Laughing',\n",
              " 'Law',\n",
              " 'Let',\n",
              " 'Life',\n",
              " 'Like',\n",
              " 'Little',\n",
              " 'Lodging',\n",
              " 'Lombardy',\n",
              " 'London',\n",
              " 'Long',\n",
              " 'Longstaple',\n",
              " 'Look',\n",
              " 'Lord',\n",
              " 'Luckily',\n",
              " 'Lucy',\n",
              " 'M',\n",
              " 'MADAM',\n",
              " 'MAY',\n",
              " 'ME',\n",
              " 'MIND',\n",
              " 'MONTH',\n",
              " 'MUST',\n",
              " 'MY',\n",
              " 'Ma',\n",
              " 'Mab',\n",
              " 'Madam',\n",
              " 'Magna',\n",
              " 'Mall',\n",
              " 'Mama',\n",
              " 'Mamma',\n",
              " 'Mansion',\n",
              " 'Many',\n",
              " 'March',\n",
              " 'Margaret',\n",
              " 'Marianne',\n",
              " 'Marlborough',\n",
              " 'Martha',\n",
              " 'Mary',\n",
              " 'Master',\n",
              " 'May',\n",
              " 'Me',\n",
              " 'Men',\n",
              " 'Michaelmas',\n",
              " 'Mid',\n",
              " 'Middleton',\n",
              " 'Middletons',\n",
              " 'Midsummer',\n",
              " 'Mind',\n",
              " 'Mine',\n",
              " 'Misery',\n",
              " 'Miss',\n",
              " 'Misses',\n",
              " 'Mistress',\n",
              " 'Monday',\n",
              " 'Months',\n",
              " 'More',\n",
              " 'Morton',\n",
              " 'Most',\n",
              " 'Mr',\n",
              " 'Mrs',\n",
              " 'Much',\n",
              " 'Music',\n",
              " 'Must',\n",
              " 'My',\n",
              " 'NOT',\n",
              " 'NOW',\n",
              " 'Nancy',\n",
              " 'Nay',\n",
              " 'Neither',\n",
              " 'Never',\n",
              " 'New',\n",
              " 'Newton',\n",
              " 'No',\n",
              " 'Nobody',\n",
              " 'None',\n",
              " 'Nor',\n",
              " 'Norfolk',\n",
              " 'Norland',\n",
              " 'Not',\n",
              " 'Nothing',\n",
              " 'November',\n",
              " 'Now',\n",
              " 'OCCASION',\n",
              " 'ONCE',\n",
              " 'ONE',\n",
              " 'OUGHT',\n",
              " 'OWN',\n",
              " 'October',\n",
              " 'Of',\n",
              " 'Offended',\n",
              " 'Oh',\n",
              " 'On',\n",
              " 'Once',\n",
              " 'One',\n",
              " 'Only',\n",
              " 'Opportunity',\n",
              " 'Opposition',\n",
              " 'Or',\n",
              " 'Other',\n",
              " 'Others',\n",
              " 'Our',\n",
              " 'Oxford',\n",
              " 'P',\n",
              " 'PARTIES',\n",
              " 'Pall',\n",
              " 'Palmer',\n",
              " 'Palmers',\n",
              " 'Pardon',\n",
              " 'Park',\n",
              " 'Parliament',\n",
              " 'Parrys',\n",
              " 'Parsonage',\n",
              " 'Perhaps',\n",
              " 'Pity',\n",
              " 'Please',\n",
              " 'Pleased',\n",
              " 'Plymouth',\n",
              " 'Poor',\n",
              " 'Pope',\n",
              " 'Portman',\n",
              " 'Pratt',\n",
              " 'Pray',\n",
              " 'Precious',\n",
              " 'Preparation',\n",
              " 'Prescriptions',\n",
              " 'Priory',\n",
              " 'Queen',\n",
              " 'Quite',\n",
              " 'REALLY',\n",
              " 'ROBERT',\n",
              " 'Rather',\n",
              " 'Reading',\n",
              " 'Really',\n",
              " 'Recollecting',\n",
              " 'Reflection',\n",
              " 'Regard',\n",
              " 'Relate',\n",
              " 'Remember',\n",
              " 'Reserved',\n",
              " 'Restless',\n",
              " 'Richard',\n",
              " 'Richardson',\n",
              " 'Richardsons',\n",
              " 'Robert',\n",
              " 'Rose',\n",
              " 'S',\n",
              " 'SHALL',\n",
              " 'SHE',\n",
              " 'SHOULD',\n",
              " 'SIR',\n",
              " 'SOMETIMES',\n",
              " 'STILL',\n",
              " 'Sackville',\n",
              " 'Sally',\n",
              " 'Sandersons',\n",
              " 'Saturday',\n",
              " 'Scarcely',\n",
              " 'Scotland',\n",
              " 'Scott',\n",
              " 'Secrecy',\n",
              " 'Selfish',\n",
              " 'Sense',\n",
              " 'Sensibility',\n",
              " 'September',\n",
              " 'Seven',\n",
              " 'Shakespeare',\n",
              " 'Shall',\n",
              " 'Sharpe',\n",
              " 'She',\n",
              " 'Short',\n",
              " 'Should',\n",
              " 'Shyness',\n",
              " 'Simpson',\n",
              " 'Since',\n",
              " 'Sincerely',\n",
              " 'Sir',\n",
              " 'Sit',\n",
              " 'Smith',\n",
              " 'So',\n",
              " 'Some',\n",
              " 'Somehow',\n",
              " 'Somerset',\n",
              " 'Somersetshire',\n",
              " 'Something',\n",
              " 'Sometimes',\n",
              " 'Soon',\n",
              " 'Sophia',\n",
              " 'Sparks',\n",
              " 'Square',\n",
              " 'St',\n",
              " 'Stanhill',\n",
              " 'Steele',\n",
              " 'Steeles',\n",
              " 'Still',\n",
              " 'Strange',\n",
              " 'Street',\n",
              " 'Streets',\n",
              " 'Such',\n",
              " 'Sunday',\n",
              " 'Supported',\n",
              " 'Supposing',\n",
              " 'Sure',\n",
              " 'Surely',\n",
              " 'Surprised',\n",
              " 'Sussex',\n",
              " 'THAT',\n",
              " 'THE',\n",
              " 'THEIR',\n",
              " 'THEM',\n",
              " 'THEN',\n",
              " 'THERE',\n",
              " 'THESE',\n",
              " 'THEY',\n",
              " 'THIS',\n",
              " 'THREE',\n",
              " 'TIME',\n",
              " 'TOLD',\n",
              " 'TRIED',\n",
              " 'TWICE',\n",
              " 'TWO',\n",
              " 'Take',\n",
              " 'Taylor',\n",
              " 'Tell',\n",
              " 'Temple',\n",
              " 'Thank',\n",
              " 'That',\n",
              " 'The',\n",
              " 'Their',\n",
              " 'Then',\n",
              " 'There',\n",
              " 'These',\n",
              " 'They',\n",
              " 'Think',\n",
              " 'This',\n",
              " 'Thomas',\n",
              " 'Thomson',\n",
              " 'Those',\n",
              " 'Though',\n",
              " 'Three',\n",
              " 'Thunderbolts',\n",
              " 'Thursday',\n",
              " 'Thus',\n",
              " 'Till',\n",
              " 'Time',\n",
              " 'Tis',\n",
              " 'To',\n",
              " 'Towards',\n",
              " 'Truth',\n",
              " 'Tuesday',\n",
              " 'Twice',\n",
              " 'Twill',\n",
              " 'Two',\n",
              " 'US',\n",
              " 'Unaccountable',\n",
              " 'Undoubtedly',\n",
              " 'Ungracious',\n",
              " 'Upon',\n",
              " 'Use',\n",
              " 'VERY',\n",
              " 'Valley',\n",
              " 'Vanity',\n",
              " 'Very',\n",
              " 'Volume',\n",
              " 'W',\n",
              " 'WAS',\n",
              " 'WE',\n",
              " 'WERE',\n",
              " 'WHAT',\n",
              " 'WHERE',\n",
              " 'WILL',\n",
              " 'WILLOUGHBY',\n",
              " 'WITHOUT',\n",
              " 'WORD',\n",
              " 'WOULD',\n",
              " 'Wait',\n",
              " 'Walker',\n",
              " 'Want',\n",
              " 'Was',\n",
              " 'Watched',\n",
              " 'We',\n",
              " 'Wednesday',\n",
              " 'Well',\n",
              " 'Were',\n",
              " 'Westminster',\n",
              " 'Westons',\n",
              " 'Weymouth',\n",
              " 'What',\n",
              " 'Whatever',\n",
              " 'When',\n",
              " 'Whenever',\n",
              " 'Where',\n",
              " 'Whereas',\n",
              " 'Wherever',\n",
              " 'Whether',\n",
              " 'Which',\n",
              " 'While',\n",
              " 'Whitakers',\n",
              " 'Whitwell',\n",
              " 'Who',\n",
              " 'Whoever',\n",
              " 'Whom',\n",
              " 'Why',\n",
              " 'Will',\n",
              " 'William',\n",
              " 'Williams',\n",
              " 'Willing',\n",
              " 'Willoughby',\n",
              " 'Willoughbys',\n",
              " 'With',\n",
              " 'Within',\n",
              " 'Without',\n",
              " 'Would',\n",
              " 'Writing',\n",
              " 'YOU',\n",
              " 'YOUR',\n",
              " 'Yes',\n",
              " 'Yet',\n",
              " 'You',\n",
              " 'Your',\n",
              " '[',\n",
              " ']',\n",
              " 'a',\n",
              " 'abandoned',\n",
              " 'abatement',\n",
              " 'abhor',\n",
              " 'abhorred',\n",
              " 'abhorrence',\n",
              " 'abilities',\n",
              " 'ability',\n",
              " 'able',\n",
              " 'ablest',\n",
              " 'abode',\n",
              " 'abominably',\n",
              " 'abounded',\n",
              " 'about',\n",
              " 'above',\n",
              " 'abridge',\n",
              " 'abridgement',\n",
              " 'abroad',\n",
              " 'abruptly',\n",
              " 'abruptness',\n",
              " 'absence',\n",
              " 'absent',\n",
              " 'absolute',\n",
              " 'absolutely',\n",
              " 'abstracted',\n",
              " 'abstraction',\n",
              " 'abstruse',\n",
              " 'absurd',\n",
              " 'absurdity',\n",
              " 'abundance',\n",
              " 'abundantly',\n",
              " 'abuse',\n",
              " 'abused',\n",
              " 'abuses',\n",
              " 'acacia',\n",
              " 'accelerate',\n",
              " 'accent',\n",
              " 'accents',\n",
              " 'accept',\n",
              " 'acceptable',\n",
              " 'acceptably',\n",
              " 'acceptance',\n",
              " 'accepted',\n",
              " 'accepting',\n",
              " 'accident',\n",
              " 'accidental',\n",
              " 'accidentally',\n",
              " 'accidently',\n",
              " 'accommodate',\n",
              " 'accommodating',\n",
              " 'accommodation',\n",
              " 'accommodations',\n",
              " 'accompanied',\n",
              " 'accompany',\n",
              " 'accomplished',\n",
              " 'accomplishment',\n",
              " 'accordant',\n",
              " 'according',\n",
              " 'accordingly',\n",
              " 'accosted',\n",
              " 'account',\n",
              " 'accounted',\n",
              " 'accounts',\n",
              " 'accrue',\n",
              " 'accurately',\n",
              " 'accusation',\n",
              " 'accuse',\n",
              " 'accustom',\n",
              " 'accustomary',\n",
              " 'aches',\n",
              " 'aching',\n",
              " 'acknowledge',\n",
              " 'acknowledged',\n",
              " 'acknowledging',\n",
              " 'acknowledgment',\n",
              " 'acknowledgments',\n",
              " 'acquaintance',\n",
              " 'acquaintances',\n",
              " 'acquainted',\n",
              " 'acquiesced',\n",
              " 'acquiescence',\n",
              " 'acquired',\n",
              " 'acquisition',\n",
              " 'acquit',\n",
              " 'acquitted',\n",
              " 'acquitting',\n",
              " 'across',\n",
              " 'act',\n",
              " 'acted',\n",
              " 'acting',\n",
              " 'action',\n",
              " 'actions',\n",
              " 'active',\n",
              " 'acts',\n",
              " 'actual',\n",
              " 'actually',\n",
              " 'acute',\n",
              " 'acutely',\n",
              " 'acuteness',\n",
              " 'adapted',\n",
              " 'add',\n",
              " 'added',\n",
              " 'adding',\n",
              " 'addition',\n",
              " 'additional',\n",
              " 'additions',\n",
              " 'address',\n",
              " 'addressed',\n",
              " 'addresses',\n",
              " 'addressing',\n",
              " 'adequate',\n",
              " 'adhering',\n",
              " 'adieu',\n",
              " 'adieus',\n",
              " 'adjoining',\n",
              " 'adjusting',\n",
              " 'administer',\n",
              " 'administering',\n",
              " 'admirable',\n",
              " 'admiration',\n",
              " 'admire',\n",
              " 'admired',\n",
              " 'admirers',\n",
              " 'admires',\n",
              " 'admiring',\n",
              " 'admission',\n",
              " 'admit',\n",
              " 'admittance',\n",
              " 'admitted',\n",
              " 'admitting',\n",
              " 'adopt',\n",
              " 'adopted',\n",
              " 'adorned',\n",
              " 'advance',\n",
              " 'advanced',\n",
              " 'advancement',\n",
              " 'advances',\n",
              " 'advancing',\n",
              " 'advantage',\n",
              " 'advantageous',\n",
              " 'advantages',\n",
              " 'advice',\n",
              " 'advisable',\n",
              " 'advise',\n",
              " 'advised',\n",
              " 'affability',\n",
              " 'affable',\n",
              " 'affair',\n",
              " 'affairs',\n",
              " 'affect',\n",
              " 'affectation',\n",
              " 'affected',\n",
              " 'affectedly',\n",
              " 'affecting',\n",
              " 'affection',\n",
              " 'affectionate',\n",
              " 'affectionately',\n",
              " 'affections',\n",
              " 'affects',\n",
              " 'affirmative',\n",
              " 'affixed',\n",
              " 'afflict',\n",
              " 'afflicted',\n",
              " 'afflicting',\n",
              " 'affliction',\n",
              " 'afflictions',\n",
              " 'affluence',\n",
              " 'afford',\n",
              " 'afforded',\n",
              " 'affording',\n",
              " 'affront',\n",
              " 'affronting',\n",
              " 'afraid',\n",
              " 'after',\n",
              " 'afternoon',\n",
              " 'afterward',\n",
              " 'afterwards',\n",
              " 'again',\n",
              " 'against',\n",
              " 'age',\n",
              " 'ages',\n",
              " 'aggrandizement',\n",
              " 'aggravation',\n",
              " 'agitate',\n",
              " 'agitated',\n",
              " 'agitation',\n",
              " 'ago',\n",
              " 'agonies',\n",
              " 'agony',\n",
              " 'agree',\n",
              " 'agreeable',\n",
              " 'agreed',\n",
              " 'agreeing',\n",
              " 'agreement',\n",
              " 'aid',\n",
              " 'ailment',\n",
              " 'ailments',\n",
              " 'aim',\n",
              " 'aimed',\n",
              " 'air',\n",
              " 'alacrity',\n",
              " 'alarm',\n",
              " 'alarmed',\n",
              " 'alarming',\n",
              " 'alarms',\n",
              " 'alienated',\n",
              " 'alighted',\n",
              " 'alike',\n",
              " 'alive',\n",
              " 'all',\n",
              " 'alleged',\n",
              " 'alleviation',\n",
              " 'allow',\n",
              " 'allowable',\n",
              " 'allowance',\n",
              " 'allowances',\n",
              " 'allowed',\n",
              " 'allowing',\n",
              " 'alloy',\n",
              " 'alluded',\n",
              " 'allusion',\n",
              " 'almost',\n",
              " 'alone',\n",
              " 'along',\n",
              " 'aloud',\n",
              " 'alphabet',\n",
              " 'already',\n",
              " 'also',\n",
              " 'altar',\n",
              " 'alter',\n",
              " 'alteration',\n",
              " 'alterations',\n",
              " 'altered',\n",
              " 'altering',\n",
              " 'alternately',\n",
              " 'alternative',\n",
              " 'although',\n",
              " 'altogether',\n",
              " 'always',\n",
              " 'am',\n",
              " 'amazement',\n",
              " 'amazing',\n",
              " 'amazingly',\n",
              " 'ambition',\n",
              " 'amended',\n",
              " 'amendment',\n",
              " 'amends',\n",
              " 'amiable',\n",
              " 'amiably',\n",
              " 'amidst',\n",
              " 'amiss',\n",
              " 'among',\n",
              " 'amongst',\n",
              " 'amount',\n",
              " 'amounted',\n",
              " 'ample',\n",
              " ...]"
            ]
          },
          "execution_count": 14,
          "metadata": {},
          "output_type": "execute_result"
        }
      ],
      "source": [
        "sorted(set(text2)) # sort every single word from punctuation to numbers then words used."
      ]
    },
    {
      "cell_type": "code",
      "execution_count": 15,
      "metadata": {
        "colab": {
          "base_uri": "https://localhost:8080/"
        },
        "id": "JCYnww9T2hip",
        "outputId": "71c1d118-e7ad-4dc9-dc64-e6a947e51d2e"
      },
      "outputs": [
        {
          "data": {
            "text/plain": [
              "2789"
            ]
          },
          "execution_count": 15,
          "metadata": {},
          "output_type": "execute_result"
        }
      ],
      "source": [
        "len(set(text3)) # total number of different words/punctuation"
      ]
    },
    {
      "cell_type": "code",
      "execution_count": 16,
      "metadata": {
        "colab": {
          "base_uri": "https://localhost:8080/"
        },
        "id": "D4X-ocem0You",
        "outputId": "60b830c2-2825-4a3e-8aae-e94a5b6d68a7"
      },
      "outputs": [
        {
          "data": {
            "text/plain": [
              "0.06230453042623537"
            ]
          },
          "execution_count": 16,
          "metadata": {},
          "output_type": "execute_result"
        }
      ],
      "source": [
        "len(set(text3)) / len(text3) # total num of unique words / total num of words including duplicates"
      ]
    },
    {
      "cell_type": "code",
      "execution_count": 17,
      "metadata": {
        "colab": {
          "base_uri": "https://localhost:8080/"
        },
        "id": "lt5W_O2I0duB",
        "outputId": "53c16900-ac66-4ff7-c2c9-db42cb35bcd6"
      },
      "outputs": [
        {
          "data": {
            "text/plain": [
              "5"
            ]
          },
          "execution_count": 17,
          "metadata": {},
          "output_type": "execute_result"
        }
      ],
      "source": [
        "text3.count(\"smote\") # num times \"smote\" in text"
      ]
    },
    {
      "cell_type": "code",
      "execution_count": 18,
      "metadata": {
        "colab": {
          "base_uri": "https://localhost:8080/"
        },
        "id": "JhrpgICF0o39",
        "outputId": "9b5303a9-2aa6-475f-c295-d8cb9f02fead"
      },
      "outputs": [
        {
          "data": {
            "text/plain": [
              "1.457806031353621"
            ]
          },
          "execution_count": 18,
          "metadata": {},
          "output_type": "execute_result"
        }
      ],
      "source": [
        "100 * text4.count(\"a\") / len(text4) # 100 * total num of \"a\" used divided by the total words.\n",
        "# 145% diversity of \"a\"\n",
        "# means its used 45% more than rest of words"
      ]
    },
    {
      "cell_type": "code",
      "execution_count": 19,
      "metadata": {
        "id": "v_Hwcg6029AV"
      },
      "outputs": [],
      "source": [
        "def lexical_diversity(text):\n",
        "    return len(set(text)) / len(text)\n",
        "    # function for finding unique / total with dupes\n",
        "\n",
        "\n",
        "def percentage(count, total):\n",
        "    return 100 * count / total\n",
        "    # function for returning percentage of count"
      ]
    },
    {
      "cell_type": "code",
      "execution_count": 20,
      "metadata": {
        "colab": {
          "base_uri": "https://localhost:8080/"
        },
        "id": "AgaGtx0o3KVj",
        "outputId": "58dbd809-8216-4b0d-b4af-e9c9f7ee4427"
      },
      "outputs": [
        {
          "data": {
            "text/plain": [
              "0.06230453042623537"
            ]
          },
          "execution_count": 20,
          "metadata": {},
          "output_type": "execute_result"
        }
      ],
      "source": [
        "lexical_diversity(text3)\n",
        "# 6% lexical diversity\n",
        "# low unique word ratio"
      ]
    },
    {
      "cell_type": "code",
      "execution_count": 21,
      "metadata": {
        "colab": {
          "base_uri": "https://localhost:8080/"
        },
        "id": "DeXyHTCw3l0y",
        "outputId": "dec798fd-7150-4a53-cc5b-6e8958b4230c"
      },
      "outputs": [
        {
          "data": {
            "text/plain": [
              "0.13477005109975562"
            ]
          },
          "execution_count": 21,
          "metadata": {},
          "output_type": "execute_result"
        }
      ],
      "source": [
        "lexical_diversity(text5)\n",
        "# 13% lexical diversity\n",
        "# bit higher unique word ratio"
      ]
    },
    {
      "cell_type": "code",
      "execution_count": 22,
      "metadata": {
        "colab": {
          "base_uri": "https://localhost:8080/"
        },
        "id": "-A-XHc-c3y4j",
        "outputId": "8fbbb03d-a29f-48f9-a349-d23470e7a463"
      },
      "outputs": [
        {
          "data": {
            "text/plain": [
              "80.0"
            ]
          },
          "execution_count": 22,
          "metadata": {},
          "output_type": "execute_result"
        }
      ],
      "source": [
        "percentage(4, 5)\n",
        "# 100 * (4/5 = 0.8) = 80%"
      ]
    },
    {
      "cell_type": "markdown",
      "metadata": {
        "id": "VZEe9Rfc14io"
      },
      "source": [
        "### 2. Calculate the lexical diversity for a different text in the NLTK Gutenberg corpus and compare it with `austen-emma.txt`. Explain the differences in lexical diversity"
      ]
    },
    {
      "cell_type": "code",
      "execution_count": 23,
      "metadata": {
        "colab": {
          "base_uri": "https://localhost:8080/"
        },
        "id": "Jf893Hx29iU0",
        "outputId": "5b0a474e-8584-4427-cb69-4a583ab6d893"
      },
      "outputs": [
        {
          "name": "stdout",
          "output_type": "stream",
          "text": [
            "0.1276595744680851 0.04826383002768831\n"
          ]
        }
      ],
      "source": [
        "print(lexical_diversity(text6), lexical_diversity(text2))"
      ]
    },
    {
      "cell_type": "markdown",
      "metadata": {
        "id": "B0hNqrbC14io"
      },
      "source": [
        "Your answer here: Monty Python and the Holy Grail has 12.7% lexical diversity whilst Jane Austen's text has 4.82%.\n",
        "This is a quite a difference and this shows the percentage of unique words used in both texts, highlighting that the first text has a more unique words through the text, therefore less duplicates of words are used."
      ]
    },
    {
      "cell_type": "markdown",
      "metadata": {
        "id": "qirwgXhnwtk_"
      },
      "source": [
        "# *Accessing Text Corpora*"
      ]
    },
    {
      "cell_type": "markdown",
      "metadata": {
        "id": "qKyot6xiGSKH"
      },
      "source": [
        "A text corpus is a large body of text. Many corpora are designed to contain a careful balance of material in one or more genres (These can be in various structure in Figure below).  This section examines a variety of text corpora. We'll see how to select individual texts, and how to work with them.\n",
        "\n",
        "![text-corpus-structure.png](data:image/png;base64,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)"
      ]
    },
    {
      "cell_type": "markdown",
      "metadata": {
        "id": "ty23uBKm2P4T"
      },
      "source": [
        "###  *Gutenberg  Corpus*"
      ]
    },
    {
      "cell_type": "markdown",
      "metadata": {
        "id": "vvF5O_kHG1IS"
      },
      "source": [
        "NLTK includes a small selection of texts from the Project Gutenberg electronic text archive, which contains some 25,000 free electronic books."
      ]
    },
    {
      "cell_type": "code",
      "execution_count": 24,
      "metadata": {
        "colab": {
          "base_uri": "https://localhost:8080/"
        },
        "id": "kiVCxC-w4LAt",
        "outputId": "9d32655e-8738-4879-e270-49b944f3fad9"
      },
      "outputs": [
        {
          "data": {
            "text/plain": [
              "['austen-emma.txt',\n",
              " 'austen-persuasion.txt',\n",
              " 'austen-sense.txt',\n",
              " 'bible-kjv.txt',\n",
              " 'blake-poems.txt',\n",
              " 'bryant-stories.txt',\n",
              " 'burgess-busterbrown.txt',\n",
              " 'carroll-alice.txt',\n",
              " 'chesterton-ball.txt',\n",
              " 'chesterton-brown.txt',\n",
              " 'chesterton-thursday.txt',\n",
              " 'edgeworth-parents.txt',\n",
              " 'melville-moby_dick.txt',\n",
              " 'milton-paradise.txt',\n",
              " 'shakespeare-caesar.txt',\n",
              " 'shakespeare-hamlet.txt',\n",
              " 'shakespeare-macbeth.txt',\n",
              " 'whitman-leaves.txt']"
            ]
          },
          "execution_count": 24,
          "metadata": {},
          "output_type": "execute_result"
        }
      ],
      "source": [
        "nltk.corpus.gutenberg.fileids()"
      ]
    },
    {
      "cell_type": "code",
      "execution_count": 25,
      "metadata": {
        "colab": {
          "base_uri": "https://localhost:8080/"
        },
        "id": "N9anBbVo51rn",
        "outputId": "80001f0c-6fc3-4765-9a73-0e6d5e9a30fb"
      },
      "outputs": [
        {
          "data": {
            "text/plain": [
              "192427"
            ]
          },
          "execution_count": 25,
          "metadata": {},
          "output_type": "execute_result"
        }
      ],
      "source": [
        "emma = nltk.corpus.gutenberg.words(\"austen-emma.txt\")\n",
        "len(emma)"
      ]
    },
    {
      "cell_type": "code",
      "execution_count": 26,
      "metadata": {
        "colab": {
          "base_uri": "https://localhost:8080/"
        },
        "id": "UvSXF9a1x7Oq",
        "outputId": "96183f3e-94bf-42a3-d9b6-c594d5524d78"
      },
      "outputs": [
        {
          "name": "stdout",
          "output_type": "stream",
          "text": [
            "Displaying 25 of 37 matches:\n",
            "er father , was sometimes taken by surprize at his being still able to pity ` \n",
            "hem do the other any good .\" \" You surprize me ! Emma must do Harriet good : a\n",
            "Knightley actually looked red with surprize and displeasure , as he stood up ,\n",
            "r . Elton , and found to his great surprize , that Mr . Elton was actually on \n",
            "d aid .\" Emma saw Mrs . Weston ' s surprize , and felt that it must be great ,\n",
            "father was quite taken up with the surprize of so sudden a journey , and his f\n",
            "y , in all the favouring warmth of surprize and conjecture . She was , moreove\n",
            "he appeared , to have her share of surprize , introduction , and pleasure . Th\n",
            "ir plans ; and it was an agreeable surprize to her , therefore , to perceive t\n",
            "talking aunt had taken me quite by surprize , it must have been the death of m\n",
            "f all the dialogue which ensued of surprize , and inquiry , and congratulation\n",
            " the present . They might chuse to surprize her .\" Mrs . Cole had many to agre\n",
            "the mode of it , the mystery , the surprize , is more like a young woman ' s s\n",
            " to her song took her agreeably by surprize -- a second , slightly but correct\n",
            "\" \" Oh ! no -- there is nothing to surprize one at all .-- A pretty fortune ; \n",
            "t to be considered . Emma ' s only surprize was that Jane Fairfax should accep\n",
            "of your admiration may take you by surprize some day or other .\" Mr . Knightle\n",
            "ation for her will ever take me by surprize .-- I never had a thought of her i\n",
            " expected by the best judges , for surprize -- but there was great joy . Mr . \n",
            " sound of at first , without great surprize . \" So unreasonably early !\" she w\n",
            "d Frank Churchill , with a look of surprize and displeasure .-- \" That is easy\n",
            "; and Emma could imagine with what surprize and mortification she must be retu\n",
            "tled that Jane should go . Quite a surprize to me ! I had not the least idea !\n",
            " . It is impossible to express our surprize . He came to speak to his father o\n",
            "g engaged !\" Emma even jumped with surprize ;-- and , horror - struck , exclai\n"
          ]
        }
      ],
      "source": [
        "emma = nltk.Text(nltk.corpus.gutenberg.words(\"austen-emma.txt\"))\n",
        "emma.concordance(\"surprize\")"
      ]
    },
    {
      "cell_type": "code",
      "execution_count": 27,
      "metadata": {
        "colab": {
          "base_uri": "https://localhost:8080/"
        },
        "id": "mh59OiLU3Qei",
        "outputId": "173dae64-2452-4f7c-c33b-5623e26f9dc9"
      },
      "outputs": [
        {
          "name": "stdout",
          "output_type": "stream",
          "text": [
            "5 25 26 austen-emma.txt\n",
            "5 26 17 austen-persuasion.txt\n",
            "5 28 22 austen-sense.txt\n",
            "4 34 79 bible-kjv.txt\n",
            "5 19 5 blake-poems.txt\n",
            "4 19 14 bryant-stories.txt\n",
            "4 18 12 burgess-busterbrown.txt\n",
            "4 20 13 carroll-alice.txt\n",
            "5 20 12 chesterton-ball.txt\n",
            "5 23 11 chesterton-brown.txt\n",
            "5 19 11 chesterton-thursday.txt\n",
            "4 21 25 edgeworth-parents.txt\n",
            "5 26 15 melville-moby_dick.txt\n",
            "5 52 11 milton-paradise.txt\n",
            "4 12 9 shakespeare-caesar.txt\n",
            "4 12 8 shakespeare-hamlet.txt\n",
            "4 12 7 shakespeare-macbeth.txt\n",
            "5 36 12 whitman-leaves.txt\n"
          ]
        }
      ],
      "source": [
        "for fileid in gutenberg.fileids(): # for every text in gutenburgs collection\n",
        "    num_chars = len(gutenberg.raw(fileid)) # find raw character count\n",
        "    num_words = len(gutenberg.words(fileid)) # find word count\n",
        "    num_sents = len(gutenberg.sents(fileid)) # find sentance count\n",
        "    num_vocab = len(set(w.lower() for w in gutenberg.words(fileid))) # make unique words all lowercase for every word in the text\n",
        "    print(\n",
        "        round(num_chars / num_words), # characters num / words num then round\n",
        "        round(num_words / num_sents), # words num / sentance num then round\n",
        "        round(num_words / num_vocab), # words num / num unique words\n",
        "        fileid, # title\n",
        "    )"
      ]
    },
    {
      "cell_type": "code",
      "execution_count": 28,
      "metadata": {
        "id": "bZV534vTJZVK"
      },
      "outputs": [],
      "source": [
        "macbeth_sentences = gutenberg.sents(\"shakespeare-macbeth.txt\")"
      ]
    },
    {
      "cell_type": "code",
      "execution_count": 30,
      "metadata": {
        "colab": {
          "base_uri": "https://localhost:8080/"
        },
        "id": "ZEP7ROqcJy71",
        "outputId": "f67b160b-6def-43d9-b210-7104ce501aa9"
      },
      "outputs": [
        {
          "data": {
            "text/plain": [
              "[['[', 'The', 'Tragedie', 'of', 'Macbeth', 'by', 'William', 'Shakespeare', '1603', ']'], ['Actus', 'Primus', '.'], ...]"
            ]
          },
          "execution_count": 30,
          "metadata": {},
          "output_type": "execute_result"
        }
      ],
      "source": [
        "macbeth_sentences # sentances within text"
      ]
    },
    {
      "cell_type": "code",
      "execution_count": 31,
      "metadata": {
        "colab": {
          "base_uri": "https://localhost:8080/"
        },
        "id": "crpFHDhD9FNr",
        "outputId": "730ae706-586f-4f66-a081-9e35e9294cf7"
      },
      "outputs": [
        {
          "data": {
            "text/plain": [
              "['Good', 'night', ',', 'and', 'better', 'health', 'Attend', 'his', 'Maiesty']"
            ]
          },
          "execution_count": 31,
          "metadata": {},
          "output_type": "execute_result"
        }
      ],
      "source": [
        "macbeth_sentences[1037] # print 1036th sentance"
      ]
    },
    {
      "cell_type": "code",
      "execution_count": 32,
      "metadata": {
        "colab": {
          "base_uri": "https://localhost:8080/"
        },
        "id": "WK6tUWXc8lAN",
        "outputId": "389b0035-161c-42a1-dfca-ca81ce826813"
      },
      "outputs": [
        {
          "data": {
            "text/plain": [
              "[['Doubtfull',\n",
              "  'it',\n",
              "  'stood',\n",
              "  ',',\n",
              "  'As',\n",
              "  'two',\n",
              "  'spent',\n",
              "  'Swimmers',\n",
              "  ',',\n",
              "  'that',\n",
              "  'doe',\n",
              "  'cling',\n",
              "  'together',\n",
              "  ',',\n",
              "  'And',\n",
              "  'choake',\n",
              "  'their',\n",
              "  'Art',\n",
              "  ':',\n",
              "  'The',\n",
              "  'mercilesse',\n",
              "  'Macdonwald',\n",
              "  '(',\n",
              "  'Worthie',\n",
              "  'to',\n",
              "  'be',\n",
              "  'a',\n",
              "  'Rebell',\n",
              "  ',',\n",
              "  'for',\n",
              "  'to',\n",
              "  'that',\n",
              "  'The',\n",
              "  'multiplying',\n",
              "  'Villanies',\n",
              "  'of',\n",
              "  'Nature',\n",
              "  'Doe',\n",
              "  'swarme',\n",
              "  'vpon',\n",
              "  'him',\n",
              "  ')',\n",
              "  'from',\n",
              "  'the',\n",
              "  'Westerne',\n",
              "  'Isles',\n",
              "  'Of',\n",
              "  'Kernes',\n",
              "  'and',\n",
              "  'Gallowgrosses',\n",
              "  'is',\n",
              "  'supply',\n",
              "  \"'\",\n",
              "  'd',\n",
              "  ',',\n",
              "  'And',\n",
              "  'Fortune',\n",
              "  'on',\n",
              "  'his',\n",
              "  'damned',\n",
              "  'Quarry',\n",
              "  'smiling',\n",
              "  ',',\n",
              "  'Shew',\n",
              "  \"'\",\n",
              "  'd',\n",
              "  'like',\n",
              "  'a',\n",
              "  'Rebells',\n",
              "  'Whore',\n",
              "  ':',\n",
              "  'but',\n",
              "  'all',\n",
              "  \"'\",\n",
              "  's',\n",
              "  'too',\n",
              "  'weake',\n",
              "  ':',\n",
              "  'For',\n",
              "  'braue',\n",
              "  'Macbeth',\n",
              "  '(',\n",
              "  'well',\n",
              "  'hee',\n",
              "  'deserues',\n",
              "  'that',\n",
              "  'Name',\n",
              "  ')',\n",
              "  'Disdayning',\n",
              "  'Fortune',\n",
              "  ',',\n",
              "  'with',\n",
              "  'his',\n",
              "  'brandisht',\n",
              "  'Steele',\n",
              "  ',',\n",
              "  'Which',\n",
              "  'smoak',\n",
              "  \"'\",\n",
              "  'd',\n",
              "  'with',\n",
              "  'bloody',\n",
              "  'execution',\n",
              "  '(',\n",
              "  'Like',\n",
              "  'Valours',\n",
              "  'Minion',\n",
              "  ')',\n",
              "  'caru',\n",
              "  \"'\",\n",
              "  'd',\n",
              "  'out',\n",
              "  'his',\n",
              "  'passage',\n",
              "  ',',\n",
              "  'Till',\n",
              "  'hee',\n",
              "  'fac',\n",
              "  \"'\",\n",
              "  'd',\n",
              "  'the',\n",
              "  'Slaue',\n",
              "  ':',\n",
              "  'Which',\n",
              "  'neu',\n",
              "  \"'\",\n",
              "  'r',\n",
              "  'shooke',\n",
              "  'hands',\n",
              "  ',',\n",
              "  'nor',\n",
              "  'bad',\n",
              "  'farwell',\n",
              "  'to',\n",
              "  'him',\n",
              "  ',',\n",
              "  'Till',\n",
              "  'he',\n",
              "  'vnseam',\n",
              "  \"'\",\n",
              "  'd',\n",
              "  'him',\n",
              "  'from',\n",
              "  'the',\n",
              "  'Naue',\n",
              "  'toth',\n",
              "  \"'\",\n",
              "  'Chops',\n",
              "  ',',\n",
              "  'And',\n",
              "  'fix',\n",
              "  \"'\",\n",
              "  'd',\n",
              "  'his',\n",
              "  'Head',\n",
              "  'vpon',\n",
              "  'our',\n",
              "  'Battlements']]"
            ]
          },
          "execution_count": 32,
          "metadata": {},
          "output_type": "execute_result"
        }
      ],
      "source": [
        "longest_len = max(len(s) for s in macbeth_sentences) # max (length of sentance for every sentance)\n",
        "[s for s in macbeth_sentences if len(s) == longest_len] # for sentance in sentances of a text, if length == longest length,\n",
        "# this prints the longest length words in a sentance for every sentance"
      ]
    },
    {
      "cell_type": "markdown",
      "metadata": {
        "id": "ARW-SOwo7zQ6"
      },
      "source": [
        "### 3. What are average word length, average sentence length and lexical diversity score for austen-emma.txt?"
      ]
    },
    {
      "cell_type": "code",
      "execution_count": null,
      "metadata": {
        "colab": {
          "base_uri": "https://localhost:8080/",
          "height": 106
        },
        "id": "0PLafRcKBmMu",
        "outputId": "75cbf20a-7127-43df-be91-879cf2b0eaa4"
      },
      "outputs": [
        {
          "data": {
            "text/plain": [
              "[4.61, 24.94, 0.0382]"
            ]
          },
          "execution_count": 51,
          "metadata": {},
          "output_type": "execute_result"
        }
      ],
      "source": [
        "\n",
        "emma = gutenberg.words(\"austen-emma.txt\")\n",
        "\n",
        "emma_words = gutenberg.words(\"austen-emma.txt\")\n",
        "emma_sents = gutenberg.sents(\"austen-emma.txt\")\n",
        "emma_text = nltk.Text(emma_words)   \n",
        "\n",
        "num_chars = len(gutenberg.raw(\"austen-emma.txt\")) # Total Characters\n",
        "num_words = len(emma_words) # Total Words\n",
        "num_sents = len(emma_sents) # Total Sentances\n",
        "num_vocab = len(set(w.lower() for w in emma_words)) # Unique Vocab\n",
        "\n",
        "# Calculations\n",
        "average_word_len = round(num_chars / num_words, 2)\n",
        "average_sent_len = round (num_words / num_sents, 2)\n",
        "lexical_diversity = round (num_vocab / num_words, 4)\n",
        "\n",
        "\n",
        "[average_word_len, average_sent_len, lexical_diversity]"
      ]
    },
    {
      "cell_type": "markdown",
      "metadata": {
        "id": "THcme4Bh14iz"
      },
      "source": [
        "Your answer here: ... \n",
        "\n",
        "4.61 Average Word Length\n",
        "\n",
        "24.94 Average Sentance Length\n",
        "\n",
        "3% lexical diversity"
      ]
    },
    {
      "cell_type": "markdown",
      "metadata": {
        "id": "gS6AMv4M14iz"
      },
      "source": [
        "### 4. Reflect how may you split a text into without use `<CORPUS>.sents` and `nltk.sent_tokenize()`?\n"
      ]
    },
    {
      "cell_type": "markdown",
      "metadata": {
        "id": "ExM_xslf65rm"
      },
      "source": [
        "Your notes here:\n",
        "\n",
        "...\n",
        "You can split sentences manually by iterating through the text and checking for sentence-ending punctuation\n",
        "\n"
      ]
    },
    {
      "cell_type": "code",
      "execution_count": 6,
      "metadata": {},
      "outputs": [
        {
          "name": "stdout",
          "output_type": "stream",
          "text": [
            "Sentence 1: This is an example sentence.\n",
            "Sentence 2: It demonstrates splitting!\n",
            "Sentence 3: We do it without NLTK?\n",
            "Sentence 4: Yes, we can.\n"
          ]
        }
      ],
      "source": [
        "text = \"This is an example sentence. It demonstrates splitting! We do it without NLTK? Yes, we can.\"\n",
        "end_punctuations = {'.', '!', '?'}\n",
        "\n",
        "sentences = []\n",
        "sentence = \"\"\n",
        "\n",
        "for char in text: # For each char\n",
        "    sentence += char # Add to the sentance placeholder\n",
        "    if char in end_punctuations: # If the char is of punctuation\n",
        "        sentences.append(sentence.strip()) # add the sentence of chars thus far, removing whitespace\n",
        "        sentence = \"\" # Reset sentance placeholder for next iteration\n",
        "\n",
        "# Handle any remaining text if last char is not punctuation:\n",
        "if sentence:\n",
        "    sentences.append(sentence.strip())\n",
        "\n",
        "\n",
        "for i, sentence in enumerate(sentences, 1):\n",
        "    print(f\"Sentence {i}: {sentence}\")"
      ]
    },
    {
      "cell_type": "markdown",
      "metadata": {
        "id": "4ms_pVpY3s4N"
      },
      "source": [
        "## *Web and Chat Text*"
      ]
    },
    {
      "cell_type": "markdown",
      "metadata": {
        "id": "uzyrbhAZI210"
      },
      "source": [
        "NLTK's small collection of web text includes content from a Firefox discussion forum, conversations overheard in New York, the movie script of Pirates of the Carribean, personal advertisements, and wine reviews"
      ]
    },
    {
      "cell_type": "code",
      "execution_count": 7,
      "metadata": {
        "id": "7g90NvtGBqBS"
      },
      "outputs": [
        {
          "name": "stdout",
          "output_type": "stream",
          "text": [
            "firefox.txt Cookie Manager: \"Don't allow sites that set removed cookies to se ...\n",
            "grail.txt SCENE 1: [wind] [clop clop clop] \n",
            "KING ARTHUR: Whoa there!  [clop ...\n",
            "overheard.txt White guy: So, do you have any plans for this evening?\n",
            "Asian girl ...\n",
            "pirates.txt PIRATES OF THE CARRIBEAN: DEAD MAN'S CHEST, by Ted Elliott & Terr ...\n",
            "singles.txt 25 SEXY MALE, seeks attrac older single lady, for discreet encoun ...\n",
            "wine.txt Lovely delicate, fragrant Rhone wine. Polished leather and strawb ...\n"
          ]
        }
      ],
      "source": [
        "from nltk.corpus import webtext\n",
        "\n",
        "for fileid in webtext.fileids():\n",
        "    print(fileid, webtext.raw(fileid)[:65], \"...\")"
      ]
    },
    {
      "cell_type": "code",
      "execution_count": 12,
      "metadata": {
        "id": "VAYvMT_vBzO2"
      },
      "outputs": [
        {
          "data": {
            "text/plain": [
              "['Anyone', 'from', 'Tennessee', 'in', 'here', '?']"
            ]
          },
          "execution_count": 12,
          "metadata": {},
          "output_type": "execute_result"
        }
      ],
      "source": [
        "from nltk.corpus import nps_chat\n",
        "\n",
        "chatroom = nps_chat.posts(\"10-19-20s_706posts.xml\")\n",
        "chatroom[69]"
      ]
    },
    {
      "cell_type": "code",
      "execution_count": null,
      "metadata": {
        "id": "8K3EdzfeCOpz"
      },
      "outputs": [],
      "source": [
        "### try to explore by write a similar code with indices here to access web text files"
      ]
    },
    {
      "cell_type": "markdown",
      "metadata": {
        "id": "JI27VWnHBhJR"
      },
      "source": [
        "## *Brown Corpus*"
      ]
    },
    {
      "cell_type": "markdown",
      "metadata": {
        "id": "9gliSXpwKdea"
      },
      "source": [
        "The Brown Corpus was the first million-word electronic corpus of English, created in 1961 at Brown University. This corpus contains text from 500 sources, and the sources have been categorized by genre, such as news, editorial, and so on"
      ]
    },
    {
      "cell_type": "code",
      "execution_count": 13,
      "metadata": {
        "id": "G4Fp6HHiDufu"
      },
      "outputs": [
        {
          "data": {
            "text/plain": [
              "['adventure',\n",
              " 'belles_lettres',\n",
              " 'editorial',\n",
              " 'fiction',\n",
              " 'government',\n",
              " 'hobbies',\n",
              " 'humor',\n",
              " 'learned',\n",
              " 'lore',\n",
              " 'mystery',\n",
              " 'news',\n",
              " 'religion',\n",
              " 'reviews',\n",
              " 'romance',\n",
              " 'science_fiction']"
            ]
          },
          "execution_count": 13,
          "metadata": {},
          "output_type": "execute_result"
        }
      ],
      "source": [
        "from nltk.corpus import brown\n",
        "\n",
        "brown.categories()"
      ]
    },
    {
      "cell_type": "code",
      "execution_count": 16,
      "metadata": {
        "id": "pdath6qeKnjx"
      },
      "outputs": [],
      "source": [
        "news_text = brown.words(categories=\"news\")"
      ]
    },
    {
      "cell_type": "code",
      "execution_count": 15,
      "metadata": {
        "id": "1Z_jB8NfKnSE"
      },
      "outputs": [
        {
          "data": {
            "text/plain": [
              "['The', 'Fulton', 'County', 'Grand', 'Jury', 'said', ...]"
            ]
          },
          "execution_count": 15,
          "metadata": {},
          "output_type": "execute_result"
        }
      ],
      "source": [
        "brown.words(categories=\"news\")"
      ]
    },
    {
      "cell_type": "code",
      "execution_count": 17,
      "metadata": {
        "id": "A9_odlzELHLA"
      },
      "outputs": [
        {
          "data": {
            "text/plain": [
              "['Does', 'our', 'society', 'have', 'a', 'runaway', ',', ...]"
            ]
          },
          "execution_count": 17,
          "metadata": {},
          "output_type": "execute_result"
        }
      ],
      "source": [
        "brown.words(fileids=[\"cg22\"])"
      ]
    },
    {
      "cell_type": "code",
      "execution_count": 18,
      "metadata": {
        "id": "ccPFqHdGLKTK"
      },
      "outputs": [
        {
          "data": {
            "text/plain": [
              "[['The', 'Fulton', 'County', 'Grand', 'Jury', 'said', 'Friday', 'an', 'investigation', 'of', \"Atlanta's\", 'recent', 'primary', 'election', 'produced', '``', 'no', 'evidence', \"''\", 'that', 'any', 'irregularities', 'took', 'place', '.'], ['The', 'jury', 'further', 'said', 'in', 'term-end', 'presentments', 'that', 'the', 'City', 'Executive', 'Committee', ',', 'which', 'had', 'over-all', 'charge', 'of', 'the', 'election', ',', '``', 'deserves', 'the', 'praise', 'and', 'thanks', 'of', 'the', 'City', 'of', 'Atlanta', \"''\", 'for', 'the', 'manner', 'in', 'which', 'the', 'election', 'was', 'conducted', '.'], ...]"
            ]
          },
          "execution_count": 18,
          "metadata": {},
          "output_type": "execute_result"
        }
      ],
      "source": [
        "brown.sents(categories=[\"news\", \"editorial\", \"reviews\"])"
      ]
    },
    {
      "cell_type": "code",
      "execution_count": 23,
      "metadata": {
        "id": "CPqN2sluLcRF"
      },
      "outputs": [
        {
          "name": "stdout",
          "output_type": "stream",
          "text": [
            "can: 94 could: 87 real: 24 might: 38 must: 53 will: 389 "
          ]
        }
      ],
      "source": [
        "fdist = nltk.FreqDist(w.lower() for w in news_text) # New variable holding a frequency distribution of words in text with news category\n",
        "modals = [\"can\", \"could\", \"real\", \"might\", \"must\", \"will\"]\n",
        "for m in modals: # for each modal word\n",
        "    print(m + \":\", fdist[m], end=\" \") # output the mdoal and its frequency distribution within those texts"
      ]
    },
    {
      "cell_type": "code",
      "execution_count": null,
      "metadata": {
        "id": "rMAkElsELPjZ"
      },
      "outputs": [
        {
          "name": "stdout",
          "output_type": "stream",
          "text": [
            "                  can could   may might  must  will \n",
            "           news    93    86    66    38    50   389 \n",
            "       religion    82    59    78    12    54    71 \n",
            "        hobbies   268    58   131    22    83   264 \n",
            "science_fiction    16    49     4    12     8    16 \n",
            "        romance    74   193    11    51    45    43 \n",
            "          humor    16    30     8     8     9    13 \n"
          ]
        }
      ],
      "source": [
        "cfd = nltk.ConditionalFreqDist( # Different variable for a conditional frequency distribution\n",
        "    (genre, word) # including the genre and word\n",
        "    for genre in brown.categories() # for each genre in the categories of texts\n",
        "    for word in brown.words(categories=genre) # for each word in those texts with that genre\n",
        ")\n",
        "genres = [\"news\", \"religion\", \"hobbies\", \"science_fiction\", \"romance\", \"humor\"] #specified genres\n",
        "modals = [\"can\", \"could\", \"may\", \"might\", \"must\", \"will\"] # specified modal words\n",
        "cfd.tabulate(conditions=genres, samples=modals) # find conditional frequency distribution with the conditions being the genres specified, and the sample words we are looking for\n",
        "# then display this in a tabulate orientation"
      ]
    },
    {
      "cell_type": "markdown",
      "metadata": {
        "id": "W_HMb_3fLq66"
      },
      "source": [
        "### 5.Choose a different section of the Brown Corpus, and adapt the previous example to count a selection of wh words, such as what, when, where, who, and why."
      ]
    },
    {
      "cell_type": "markdown",
      "metadata": {
        "id": "s_yXg0jLMZvd"
      },
      "source": [
        "Your answer here: ..."
      ]
    },
    {
      "cell_type": "code",
      "execution_count": 27,
      "metadata": {},
      "outputs": [
        {
          "name": "stdout",
          "output_type": "stream",
          "text": [
            "          what  when where   who   why \n",
            " hobbies    78   119    72   103    10 \n",
            " romance   121   126    54    89    34 \n",
            " reviews    44    54    25   128     9 \n",
            "religion    64    53    20   100    14 \n"
          ]
        }
      ],
      "source": [
        "cfd = nltk.ConditionalFreqDist(\n",
        "    (genre, word)\n",
        "    for genre in brown.categories()\n",
        "        for word in brown.words(categories=genre)\n",
        ")\n",
        "genres = [\"hobbies\", \"romance\", \"reviews\", \"religion\"]\n",
        "wh_words = [\"what\", \"when\", \"where\", \"who\", \"why\"]\n",
        "cfd.tabulate(conditions=genres, samples=wh_words)"
      ]
    },
    {
      "cell_type": "markdown",
      "metadata": {
        "id": "j1JtpETmbzsy"
      },
      "source": [
        "# *Strings: Text Processing at the Lowest Level (OPTIONAL)*"
      ]
    },
    {
      "cell_type": "markdown",
      "metadata": {
        "id": "bQRV9P66irnc"
      },
      "source": [
        "The contents of a word, and of a file, are represented by programming languages as a fundamental data type known as a string. In this section we explore strings in detail, and show the connection between strings, words, texts and files. Please explore this in your time if necessary."
      ]
    },
    {
      "cell_type": "markdown",
      "metadata": {
        "id": "Nala7MwfcsN7"
      },
      "source": [
        "## Basic Operations with Strings"
      ]
    },
    {
      "cell_type": "code",
      "execution_count": null,
      "metadata": {
        "id": "-G3cumlWcAoz"
      },
      "outputs": [],
      "source": [
        "monty = \"Monty Python\" # set string variable"
      ]
    },
    {
      "cell_type": "code",
      "execution_count": null,
      "metadata": {
        "id": "SMS0PKZ0eWMQ"
      },
      "outputs": [
        {
          "data": {
            "text/plain": [
              "'Monty Python'"
            ]
          },
          "execution_count": 29,
          "metadata": {},
          "output_type": "execute_result"
        }
      ],
      "source": [
        "monty # print it"
      ]
    },
    {
      "cell_type": "code",
      "execution_count": 30,
      "metadata": {
        "id": "X8KAbKJldx28"
      },
      "outputs": [],
      "source": [
        "circus = \"Monty Python's Flying Circus\""
      ]
    },
    {
      "cell_type": "code",
      "execution_count": 31,
      "metadata": {
        "id": "GvRaiPQkeoO0"
      },
      "outputs": [
        {
          "data": {
            "text/plain": [
              "\"Monty Python's Flying Circus\""
            ]
          },
          "execution_count": 31,
          "metadata": {},
          "output_type": "execute_result"
        }
      ],
      "source": [
        "circus"
      ]
    },
    {
      "cell_type": "code",
      "execution_count": null,
      "metadata": {
        "id": "6jghToMbewUW"
      },
      "outputs": [],
      "source": [
        "couplet = ( # couple string variable?\n",
        "    \"Shall I compare thee to a Summer's day?\" \"Thou are more lovely and more temperate:\"\n",
        ")"
      ]
    },
    {
      "cell_type": "code",
      "execution_count": 33,
      "metadata": {
        "id": "pe6OO313fHTQ"
      },
      "outputs": [
        {
          "name": "stdout",
          "output_type": "stream",
          "text": [
            "Shall I compare thee to a Summer's day?Thou are more lovely and more temperate:\n"
          ]
        }
      ],
      "source": [
        "print(couplet)"
      ]
    },
    {
      "cell_type": "code",
      "execution_count": 34,
      "metadata": {
        "id": "eoC6aTY3fR6h"
      },
      "outputs": [],
      "source": [
        "couplet = (\n",
        "    \"Rough winds do shake the darling buds of May,\"\n",
        "    \"And Summer's lease hath all too short a date:\"\n",
        ")"
      ]
    },
    {
      "cell_type": "code",
      "execution_count": 35,
      "metadata": {
        "id": "5WfICT3VfYu2"
      },
      "outputs": [
        {
          "name": "stdout",
          "output_type": "stream",
          "text": [
            "Rough winds do shake the darling buds of May,And Summer's lease hath all too short a date:\n"
          ]
        }
      ],
      "source": [
        "print(couplet)"
      ]
    },
    {
      "cell_type": "code",
      "execution_count": null,
      "metadata": {
        "id": "Etu6MnTygDCe"
      },
      "outputs": [],
      "source": [
        "couplet = \"\"\"Shall I compare thee to a Summer's day?\n",
        "...Thou are more lovely and more temperate:\"\"\"\n",
        "# with line break, done with double speech marks within the whole couplet"
      ]
    },
    {
      "cell_type": "code",
      "execution_count": 37,
      "metadata": {
        "id": "UviV3FNRgUxj"
      },
      "outputs": [
        {
          "name": "stdout",
          "output_type": "stream",
          "text": [
            "Shall I compare thee to a Summer's day?\n",
            "...Thou are more lovely and more temperate:\n"
          ]
        }
      ],
      "source": [
        "print(couplet)"
      ]
    },
    {
      "cell_type": "code",
      "execution_count": 38,
      "metadata": {
        "id": "WeEsg2FMgclK"
      },
      "outputs": [
        {
          "data": {
            "text/plain": [
              "'veryveryvery'"
            ]
          },
          "execution_count": 38,
          "metadata": {},
          "output_type": "execute_result"
        }
      ],
      "source": [
        "\"very\" + \"very\" + \"very\""
      ]
    },
    {
      "cell_type": "code",
      "execution_count": 39,
      "metadata": {
        "id": "hox-M209ghl6"
      },
      "outputs": [
        {
          "data": {
            "text/plain": [
              "'veryveryvery'"
            ]
          },
          "execution_count": 39,
          "metadata": {},
          "output_type": "execute_result"
        }
      ],
      "source": [
        "\"very\" * 3"
      ]
    },
    {
      "cell_type": "code",
      "execution_count": 40,
      "metadata": {
        "id": "xy_1-Sjkgo9R"
      },
      "outputs": [
        {
          "name": "stdout",
          "output_type": "stream",
          "text": [
            "            very\n",
            "          veryvery\n",
            "        veryveryvery\n",
            "      veryveryveryvery\n",
            "    veryveryveryveryvery\n",
            "  veryveryveryveryveryvery\n",
            "veryveryveryveryveryveryvery\n",
            "  veryveryveryveryveryvery\n",
            "    veryveryveryveryvery\n",
            "      veryveryveryvery\n",
            "        veryveryvery\n",
            "          veryvery\n",
            "            very\n"
          ]
        }
      ],
      "source": [
        "a = [1, 2, 3, 4, 5, 6, 7, 6, 5, 4, 3, 2, 1]\n",
        "b = [\" \" * 2 * (7 - i) + \"very\" * i for i in a]\n",
        "for line in b:\n",
        "    print(line)"
      ]
    },
    {
      "cell_type": "markdown",
      "metadata": {
        "id": "N0yaymWEg6Lp"
      },
      "source": [
        "## *Printing Strings*"
      ]
    },
    {
      "cell_type": "code",
      "execution_count": 41,
      "metadata": {
        "id": "4oaJgQeZhtvv"
      },
      "outputs": [],
      "source": [
        "grail = \"Holy Grail\""
      ]
    },
    {
      "cell_type": "code",
      "execution_count": 42,
      "metadata": {
        "id": "WiRj6Yr_hwwG"
      },
      "outputs": [
        {
          "name": "stdout",
          "output_type": "stream",
          "text": [
            "Monty PythonHoly Grail\n"
          ]
        }
      ],
      "source": [
        "print(monty + grail)"
      ]
    },
    {
      "cell_type": "code",
      "execution_count": 43,
      "metadata": {
        "id": "icWPJ0x8h3OK"
      },
      "outputs": [
        {
          "name": "stdout",
          "output_type": "stream",
          "text": [
            "Monty Python Holy Grail\n"
          ]
        }
      ],
      "source": [
        "print(monty, grail)"
      ]
    },
    {
      "cell_type": "code",
      "execution_count": 44,
      "metadata": {
        "id": "YhJW_OFih-I8"
      },
      "outputs": [
        {
          "name": "stdout",
          "output_type": "stream",
          "text": [
            "Monty Python and the Holy Grail\n"
          ]
        }
      ],
      "source": [
        "print(monty, \"and the\", grail)"
      ]
    },
    {
      "cell_type": "markdown",
      "metadata": {
        "id": "ScplHeQUiLh9"
      },
      "source": [
        "## *Accessing Individual Characters*"
      ]
    },
    {
      "cell_type": "code",
      "execution_count": 45,
      "metadata": {
        "id": "XpCI8AnSib_G"
      },
      "outputs": [
        {
          "data": {
            "text/plain": [
              "'M'"
            ]
          },
          "execution_count": 45,
          "metadata": {},
          "output_type": "execute_result"
        }
      ],
      "source": [
        "monty[0]"
      ]
    },
    {
      "cell_type": "code",
      "execution_count": 46,
      "metadata": {
        "id": "WHWKYZ6VigoV"
      },
      "outputs": [
        {
          "data": {
            "text/plain": [
              "'t'"
            ]
          },
          "execution_count": 46,
          "metadata": {},
          "output_type": "execute_result"
        }
      ],
      "source": [
        "monty[3]"
      ]
    },
    {
      "cell_type": "code",
      "execution_count": 47,
      "metadata": {
        "id": "0HvZD_oFii5Q"
      },
      "outputs": [
        {
          "data": {
            "text/plain": [
              "' '"
            ]
          },
          "execution_count": 47,
          "metadata": {},
          "output_type": "execute_result"
        }
      ],
      "source": [
        "monty[5]"
      ]
    },
    {
      "cell_type": "code",
      "execution_count": 48,
      "metadata": {
        "id": "snqXmc6AjR5U"
      },
      "outputs": [
        {
          "name": "stdout",
          "output_type": "stream",
          "text": [
            "c o l o r l e s s   g r e e n   i d e a s   s l e e p   f u r i o u s l y "
          ]
        }
      ],
      "source": [
        "sent = \"colorless green ideas sleep furiously\"\n",
        "for char in sent:\n",
        "    print(char, end=\" \")"
      ]
    },
    {
      "cell_type": "code",
      "execution_count": 49,
      "metadata": {
        "id": "WvHNqF-7jiNN"
      },
      "outputs": [
        {
          "data": {
            "text/plain": [
              "[('e', 117092), ('t', 87996), ('a', 77916), ('o', 69326), ('n', 65617)]"
            ]
          },
          "execution_count": 49,
          "metadata": {},
          "output_type": "execute_result"
        }
      ],
      "source": [
        "from nltk.corpus import gutenberg\n",
        "\n",
        "raw = gutenberg.raw(\"melville-moby_dick.txt\")\n",
        "fdist = nltk.FreqDist(ch.lower() for ch in raw if ch.isalpha())\n",
        "fdist.most_common(5)"
      ]
    },
    {
      "cell_type": "code",
      "execution_count": 50,
      "metadata": {
        "id": "niAE-hNljuD_"
      },
      "outputs": [
        {
          "data": {
            "text/plain": [
              "['e',\n",
              " 't',\n",
              " 'a',\n",
              " 'o',\n",
              " 'n',\n",
              " 'i',\n",
              " 's',\n",
              " 'h',\n",
              " 'r',\n",
              " 'l',\n",
              " 'd',\n",
              " 'u',\n",
              " 'm',\n",
              " 'c',\n",
              " 'w',\n",
              " 'f',\n",
              " 'g',\n",
              " 'p',\n",
              " 'b',\n",
              " 'y',\n",
              " 'v',\n",
              " 'k',\n",
              " 'q',\n",
              " 'j',\n",
              " 'x',\n",
              " 'z']"
            ]
          },
          "execution_count": 50,
          "metadata": {},
          "output_type": "execute_result"
        }
      ],
      "source": [
        "[char for (char, count) in fdist.most_common()]"
      ]
    },
    {
      "cell_type": "code",
      "execution_count": 51,
      "metadata": {
        "id": "CQdnCExZj9yO"
      },
      "outputs": [
        {
          "name": "stdout",
          "output_type": "stream",
          "text": [
            "found \"thing\"\n"
          ]
        }
      ],
      "source": [
        "phrase = \"And now for something completely different\"\n",
        "if \"thing\" in phrase:\n",
        "    print('found \"thing\"')"
      ]
    },
    {
      "cell_type": "markdown",
      "metadata": {
        "id": "LDujMA7OkmnN"
      },
      "source": [
        "## *The Difference between Lists and Strings*"
      ]
    },
    {
      "cell_type": "markdown",
      "metadata": {
        "id": "MZCxPjFHNgek"
      },
      "source": []
    },
    {
      "cell_type": "code",
      "execution_count": 52,
      "metadata": {
        "id": "NNkYi4oNk1Nl"
      },
      "outputs": [],
      "source": [
        "query = \"Who knows?\""
      ]
    },
    {
      "cell_type": "code",
      "execution_count": 53,
      "metadata": {
        "id": "QDBVzQ51k083"
      },
      "outputs": [],
      "source": [
        "beatles = [\"John\", \"Paul\", \"George\", \"Ringo\"]"
      ]
    },
    {
      "cell_type": "code",
      "execution_count": 54,
      "metadata": {
        "id": "VMX6qnBpk0uj"
      },
      "outputs": [
        {
          "data": {
            "text/plain": [
              "'o'"
            ]
          },
          "execution_count": 54,
          "metadata": {},
          "output_type": "execute_result"
        }
      ],
      "source": [
        "query[2]"
      ]
    },
    {
      "cell_type": "code",
      "execution_count": 55,
      "metadata": {
        "id": "m1IUcf5Qk0em"
      },
      "outputs": [
        {
          "data": {
            "text/plain": [
              "'George'"
            ]
          },
          "execution_count": 55,
          "metadata": {},
          "output_type": "execute_result"
        }
      ],
      "source": [
        "beatles[2]"
      ]
    },
    {
      "cell_type": "code",
      "execution_count": 56,
      "metadata": {
        "id": "pcfhSuFmlOim"
      },
      "outputs": [
        {
          "data": {
            "text/plain": [
              "'Wh'"
            ]
          },
          "execution_count": 56,
          "metadata": {},
          "output_type": "execute_result"
        }
      ],
      "source": [
        "query[:2]"
      ]
    },
    {
      "cell_type": "code",
      "execution_count": 57,
      "metadata": {
        "id": "3QDQxqNyljz1"
      },
      "outputs": [
        {
          "data": {
            "text/plain": [
              "['John', 'Paul']"
            ]
          },
          "execution_count": 57,
          "metadata": {},
          "output_type": "execute_result"
        }
      ],
      "source": [
        "beatles[:2]"
      ]
    },
    {
      "cell_type": "code",
      "execution_count": 58,
      "metadata": {
        "id": "phiQmRgulr4n"
      },
      "outputs": [
        {
          "data": {
            "text/plain": [
              "\"Who knows? I don't\""
            ]
          },
          "execution_count": 58,
          "metadata": {},
          "output_type": "execute_result"
        }
      ],
      "source": [
        "query + \" I don't\""
      ]
    },
    {
      "cell_type": "code",
      "execution_count": 59,
      "metadata": {
        "id": "_cDiaVIzlvYs"
      },
      "outputs": [
        {
          "data": {
            "text/plain": [
              "['John', 'Paul', 'George', 'Ringo', 'Brian']"
            ]
          },
          "execution_count": 59,
          "metadata": {},
          "output_type": "execute_result"
        }
      ],
      "source": [
        "beatles + [\"Brian\"]"
      ]
    },
    {
      "cell_type": "markdown",
      "metadata": {
        "id": "Y8Aj3E38NmYd"
      },
      "source": [
        "# *The NLP Pipeline for Text Processing*"
      ]
    },
    {
      "cell_type": "markdown",
      "metadata": {
        "id": "-DF1I7pK14jB"
      },
      "source": [
        "![pipeline1.png](data:image/png;base64,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)"
      ]
    },
    {
      "cell_type": "markdown",
      "metadata": {
        "id": "LyPNDb04Qn25"
      },
      "source": [
        "### 6. How can we write programs to access text from local files and from the web, in order to get hold of an unlimited range of language material?"
      ]
    },
    {
      "cell_type": "markdown",
      "metadata": {
        "id": "BowPu1Ts14jI"
      },
      "source": [
        "Your answer here: ...\n",
        "Can write a program that upon getting a html web link or file, opens the HTML and then cleans it into raw ascii data. Then it will tokenize the text whilst selecting tokens of interest. Then creating a NLTK text via those tokens so it is usable for NLP as text. Then can normalize the words via python into vocab"
      ]
    },
    {
      "cell_type": "markdown",
      "metadata": {},
      "source": []
    }
  ],
  "metadata": {
    "colab": {
      "collapsed_sections": [
        "4ms_pVpY3s4N",
        "JI27VWnHBhJR",
        "j1JtpETmbzsy"
      ],
      "provenance": []
    },
    "kernelspec": {
      "display_name": "Python 3",
      "language": "python",
      "name": "python3"
    },
    "language_info": {
      "codemirror_mode": {
        "name": "ipython",
        "version": 3
      },
      "file_extension": ".py",
      "mimetype": "text/x-python",
      "name": "python",
      "nbconvert_exporter": "python",
      "pygments_lexer": "ipython3",
      "version": "3.10.9"
    }
  },
  "nbformat": 4,
  "nbformat_minor": 0
}
